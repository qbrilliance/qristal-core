{
 "cells": [
  {
   "cell_type": "markdown",
   "source": [
    "<img src=\"Quantum_Brilliance_dark_blue_Logo_RGB.png\" alt=\"Copyright (c) 2021 Quantum Brilliance Pty Ltd\" width=\"240\">\r\n",
    "\r\n",
    "# qbOS Build 0.0721.002\r\n",
    "> *Quantum Brilliance Operating System supporting a complete set of quantum computational tasks*"
   ],
   "metadata": {}
  },
  {
   "cell_type": "code",
   "execution_count": 1,
   "source": [
    "import re\r\n",
    "import time"
   ],
   "outputs": [],
   "metadata": {}
  },
  {
   "cell_type": "markdown",
   "source": [
    "### Inputs from user"
   ],
   "metadata": {}
  },
  {
   "cell_type": "code",
   "execution_count": 2,
   "source": [
    "qn = [8,10,12,14] # The number of qubits\r\n",
    "repeatn = 2 # The number of repeated evaluations\r\n",
    "fit_qn_max = 32   # Upper limit for extrapolation"
   ],
   "outputs": [],
   "metadata": {}
  },
  {
   "cell_type": "markdown",
   "source": [
    "### Circuit generator"
   ],
   "metadata": {}
  },
  {
   "cell_type": "code",
   "execution_count": 3,
   "source": [
    "def qbdj(qn) :\r\n",
    "    import xacc\r\n",
    "    import re\r\n",
    "    bitstr = [1,0]*(qn//2)\r\n",
    "    xgates_str=''.join(['X(q['+str(mye[0])+']);' for mye in enumerate(bitstr) if mye[1]==1])\r\n",
    "    \r\n",
    "    generator = '''\r\n",
    ".compiler xasm\r\n",
    ".circuit dj_circuit\r\n",
    ".qbit q\r\n",
    "for (int i=0; i<%d; i++) {\r\n",
    "  H(q[i]);\r\n",
    "}\r\n",
    "\r\n",
    "Z(q[%d]);\r\n",
    "// End of init\r\n",
    "\r\n",
    "// Start of oracle\r\n",
    "%s\r\n",
    "for (int i=0; i<%d; i++) {\r\n",
    "  CNOT(q[i], q[%d]);\r\n",
    "}\r\n",
    "%s\r\n",
    "// End of oracle\r\n",
    "for (int i=0; i<%d; i++) {\r\n",
    "  H(q[i]);\r\n",
    "}\r\n",
    "\r\n",
    "// Measurements\r\n",
    "for (int i=0; i<%d; i++) {\r\n",
    "  Measure(q[i]);\r\n",
    "}\r\n",
    "\r\n",
    "''' % (qn+1,qn,xgates_str,qn,qn,xgates_str,qn,qn)\r\n",
    "    xacc.qasm(generator)\r\n",
    "    anz = xacc.getCompiled('dj_circuit')\r\n",
    "    mstaq = xacc.getCompiler('staq')\r\n",
    "    q2oqm = re.sub(r\"qreg q\\[\\d+\\];\", \"\", mstaq.translate(anz))\r\n",
    "    qbstr = '__qpu__ void QBCIRCUIT(qreg q) {\\n' + q2oqm + '}'\r\n",
    "    return(qbstr)"
   ],
   "outputs": [],
   "metadata": {
    "jupyter": {
     "source_hidden": true
    }
   }
  },
  {
   "cell_type": "code",
   "execution_count": 4,
   "source": [
    "qubit_range = []\r\n",
    "for ii in range(0,len(qn)):\r\n",
    "    qubit_range += [qn[ii]]*repeatn"
   ],
   "outputs": [],
   "metadata": {
    "jupyter": {
     "source_hidden": true
    }
   }
  },
  {
   "cell_type": "code",
   "execution_count": 5,
   "source": [
    "sweepstr = [qbdj(el) for el in qubit_range]"
   ],
   "outputs": [],
   "metadata": {
    "jupyter": {
     "source_hidden": true
    }
   }
  },
  {
   "cell_type": "code",
   "execution_count": 6,
   "source": [
    "# print(sweepstr[-1])"
   ],
   "outputs": [],
   "metadata": {
    "jupyter": {
     "source_hidden": true
    }
   }
  },
  {
   "cell_type": "markdown",
   "source": [
    "### Setup simulation conditions"
   ],
   "metadata": {}
  },
  {
   "cell_type": "code",
   "execution_count": 7,
   "source": [
    "import qbos\r\n",
    "tqb=qbos.core()\r\n",
    "tqb.qb12()\r\n",
    "tqb.acc = 'aer'\r\n",
    "tqb.noise = True"
   ],
   "outputs": [],
   "metadata": {}
  },
  {
   "cell_type": "code",
   "execution_count": 8,
   "source": [
    "tqb.qns.clear()\r\n",
    "for ii in range(0,len(qn)):\r\n",
    "    for kk in range(0,repeatn):\r\n",
    "        tqb.qns.append(qbos.N())\r\n",
    "        tqb.qns[repeatn*ii+kk].append(1+qn[ii])"
   ],
   "outputs": [],
   "metadata": {}
  },
  {
   "cell_type": "code",
   "execution_count": 9,
   "source": [
    "tqb.instrings.clear()\r\n",
    "for ii in range(0,len(qn)):\r\n",
    "    for kk in range(0,repeatn):\r\n",
    "        tqb.instrings.append(qbos.String())\r\n",
    "        tqb.instrings[repeatn*ii+kk].append(sweepstr[repeatn*ii+kk])"
   ],
   "outputs": [],
   "metadata": {}
  },
  {
   "cell_type": "markdown",
   "source": [
    "### Execute the quantum circuits"
   ],
   "metadata": {}
  },
  {
   "cell_type": "code",
   "execution_count": 10,
   "source": [
    "tqb.run()"
   ],
   "outputs": [],
   "metadata": {}
  },
  {
   "cell_type": "markdown",
   "source": [
    "### Measurements from shots"
   ],
   "metadata": {}
  },
  {
   "cell_type": "code",
   "execution_count": 11,
   "source": [
    "# [tqb.out_raw[ii] for ii in range (0,repeatn*len(qn))]"
   ],
   "outputs": [],
   "metadata": {}
  },
  {
   "cell_type": "markdown",
   "source": [
    "### Calculate infidelity "
   ],
   "metadata": {}
  },
  {
   "cell_type": "code",
   "execution_count": 12,
   "source": [
    "all_ones = [tqb.out_count[el][0][2**qubit_range[el] - 1] for el in range(0,len(qubit_range))]"
   ],
   "outputs": [],
   "metadata": {
    "jupyter": {
     "source_hidden": true
    }
   }
  },
  {
   "cell_type": "code",
   "execution_count": 13,
   "source": [
    "infidelity = [(1.0/tqb.sn[0][0])*(tqb.sn[0][0] - el) for el in all_ones]"
   ],
   "outputs": [],
   "metadata": {
    "jupyter": {
     "source_hidden": true
    }
   }
  },
  {
   "cell_type": "code",
   "execution_count": 14,
   "source": [
    "fidelity = [1 - el for el in infidelity]"
   ],
   "outputs": [],
   "metadata": {
    "jupyter": {
     "source_hidden": true
    }
   }
  },
  {
   "cell_type": "markdown",
   "source": [
    "### Quantum estimated walltime (in ms)"
   ],
   "metadata": {}
  },
  {
   "cell_type": "code",
   "execution_count": 15,
   "source": [
    "quantum_ms = [tqb.out_total_init_maxgate_readout_time[ii][0][0] for ii in range (0,len(qubit_range))]"
   ],
   "outputs": [],
   "metadata": {
    "jupyter": {
     "source_hidden": true
    }
   }
  },
  {
   "cell_type": "markdown",
   "source": [
    "### Classical algorithm"
   ],
   "metadata": {}
  },
  {
   "cell_type": "code",
   "execution_count": 16,
   "source": [
    "def oracle(value):\r\n",
    "    pass\r\n",
    "    return 0"
   ],
   "outputs": [],
   "metadata": {
    "jupyter": {
     "source_hidden": true
    }
   }
  },
  {
   "cell_type": "code",
   "execution_count": 17,
   "source": [
    "def check_DJ(nb_bits):\r\n",
    "    first_value = oracle(0)\r\n",
    "    max_val = 2**(nb_bits - 1) + 1\r\n",
    "    for value in range(1,max_val):\r\n",
    "        if oracle(value) != first_value:\r\n",
    "            return 1\r\n",
    "    return 0"
   ],
   "outputs": [],
   "metadata": {
    "jupyter": {
     "source_hidden": true
    }
   }
  },
  {
   "cell_type": "code",
   "execution_count": 18,
   "source": [
    "cext_qn = qn + list(range(qn[-1]+1, fit_qn_max+1))\r\n",
    "cext_qubit_range = []\r\n",
    "for ii in range(0,len(cext_qn)):\r\n",
    "    cext_qubit_range += [cext_qn[ii]]*repeatn\r\n",
    "    \r\n",
    "classic_time = [0.0] * len(cext_qubit_range)\r\n",
    "outcomes = [0] * len(cext_qubit_range)\r\n",
    "for index_bits in range(len(cext_qubit_range)):\r\n",
    "    nb_bits = cext_qubit_range[index_bits]\r\n",
    "    time_1 = time.time()\r\n",
    "    outcomes[index_bits] = check_DJ(nb_bits)\r\n",
    "    time_2 = time.time()\r\n",
    "    classic_time[index_bits] = time_2 - time_1"
   ],
   "outputs": [],
   "metadata": {
    "jupyter": {
     "source_hidden": true
    }
   }
  },
  {
   "cell_type": "markdown",
   "source": [
    "### Classical walltime (in seconds)"
   ],
   "metadata": {}
  },
  {
   "cell_type": "code",
   "execution_count": 19,
   "source": [
    "# print(classic_time)"
   ],
   "outputs": [],
   "metadata": {}
  },
  {
   "cell_type": "markdown",
   "source": [
    "### Visualise Quantum Utility"
   ],
   "metadata": {}
  },
  {
   "cell_type": "code",
   "execution_count": 20,
   "source": [
    "import numpy as np\r\n",
    "import matplotlib\r\n",
    "import matplotlib.pyplot as plt\r\n",
    "from matplotlib.ticker import StrMethodFormatter\r\n",
    "from scipy import optimize\r\n",
    "from scipy import stats"
   ],
   "outputs": [],
   "metadata": {
    "jupyter": {
     "source_hidden": true
    }
   }
  },
  {
   "cell_type": "code",
   "execution_count": 21,
   "source": [
    "linfunc = lambda p,x : p[0] + np.multiply(p[1],x)\r\n",
    "expfunc = lambda p,x : np.multiply(p[0],np.exp(np.multiply(p[1],x)))\r\n",
    "powfunc = lambda p,x : p[0]*x**p[1]\r\n",
    "errfunc_lin = lambda p,x,y : y - linfunc(p,x)\r\n",
    "errfunc_exp = lambda p,x,y : y - expfunc(p,x)\r\n",
    "errfunc_pow = lambda p,x,y : y - powfunc(p,x)\r\n",
    "linplot = lambda x,b,slope: b + x*slope\r\n",
    "expplot = lambda x,amp,coeff: amp*np.exp(coeff*x)\r\n",
    "powplot = lambda x,amp,pow: amp*x**pow"
   ],
   "outputs": [],
   "metadata": {
    "jupyter": {
     "source_hidden": true
    }
   }
  },
  {
   "cell_type": "code",
   "execution_count": 22,
   "source": [
    "plot_range = qn\r\n",
    "cext_plot_range = cext_qn\r\n",
    "fit_range = qn + list(range((qn[-1]+1), fit_qn_max+1))"
   ],
   "outputs": [],
   "metadata": {
    "jupyter": {
     "source_hidden": true
    }
   }
  },
  {
   "cell_type": "code",
   "execution_count": 23,
   "source": [
    "classical_data = np.array([cext_qubit_range,classic_time])\r\n",
    "classical_mean=[np.mean(classical_data[1,classical_data[0,:] == iik]) for iik in cext_qn]"
   ],
   "outputs": [],
   "metadata": {
    "jupyter": {
     "source_hidden": true
    }
   }
  },
  {
   "cell_type": "code",
   "execution_count": 24,
   "source": [
    "p_class = optimize.leastsq(errfunc_exp,np.array([1.0,0.1]),args=(cext_qn,classical_mean))\r\n",
    "classical_fit = [expfunc(p_class[0],x) for x in fit_range]"
   ],
   "outputs": [],
   "metadata": {
    "jupyter": {
     "source_hidden": true
    }
   }
  },
  {
   "cell_type": "code",
   "execution_count": 25,
   "source": [
    "quantum_data = np.array([qubit_range,np.multiply((1/1000),quantum_ms)])\r\n",
    "quantum_mean=[np.mean(quantum_data[1,quantum_data[0,:] == iik]) for iik in qn]"
   ],
   "outputs": [],
   "metadata": {
    "jupyter": {
     "source_hidden": true
    }
   }
  },
  {
   "cell_type": "code",
   "execution_count": 26,
   "source": [
    "p_quantum = optimize.leastsq(errfunc_lin,np.array([1.0,0.1]),args=(qn,quantum_mean))\r\n",
    "quantum_fit = [linfunc(p_quantum[0],x) for x in fit_range]"
   ],
   "outputs": [],
   "metadata": {
    "jupyter": {
     "source_hidden": true
    }
   }
  },
  {
   "cell_type": "code",
   "execution_count": 27,
   "source": [
    "infidelity_data = np.array([qubit_range,infidelity])\r\n",
    "infidelity_mean = [np.mean(infidelity_data[1,infidelity_data[0,:] == iik]) for iik in qn]"
   ],
   "outputs": [],
   "metadata": {
    "jupyter": {
     "source_hidden": true
    }
   }
  },
  {
   "cell_type": "code",
   "execution_count": 28,
   "source": [
    "from pylab import figure, show, legend, ylabel\r\n",
    "import math\r\n",
    " \r\n",
    "# create the general figure\r\n",
    "fig1 = figure()\r\n",
    "\r\n",
    "# and the first axes using subplot populated with data \r\n",
    "ax1 = fig1.add_subplot(111)\r\n",
    "line1 = ax1.plot(cext_plot_range,classical_mean, 'gs-', linestyle=\"dashed\", label='Classical algorithm runtime', alpha=0.5, color='blue')\r\n",
    "line3 = ax1.plot(plot_range,quantum_mean,'bo-', linestyle=\"dashed\",label='Quantum time estimation')\r\n",
    "ax1.plot(fit_range,quantum_fit, color='blue')  \r\n",
    "ax1.plot(fit_range,classical_fit, color='blue') \r\n",
    "ax1.yaxis.label.set_color('blue')\r\n",
    "ax1.tick_params(axis='y',colors='blue')\r\n",
    "ax1.spines['left'].set_color('blue')\r\n",
    " \r\n",
    "plt.xlabel(\"#qubits\", fontsize='large')\r\n",
    "plt.ylabel(\"wall-time [seconds]\", fontsize='large')\r\n",
    "\r\n",
    "# now, the second axes that shares the x-axis with the ax1\r\n",
    "ax2 = fig1.add_subplot(111, sharex=ax1, frameon=False)\r\n",
    "line2 = ax2.plot(plot_range,infidelity_mean, 'om-',linestyle=\"None\", label=\"Infidelity (quantum data)\",color='green',alpha=0.5)\r\n",
    "ax2.yaxis.tick_right()\r\n",
    "ax2.set_ylim(0.0,1.0)\r\n",
    "ax2.yaxis.set_label_position(\"right\")\r\n",
    "ax2.set_yticks([i/10 for i in range(1,11)])\r\n",
    "ax2.tick_params(axis='y',colors='green')\r\n",
    "ax2.spines['right'].set_color('green')\r\n",
    "ax2.yaxis.label.set_color('green')\r\n",
    "ax2.grid()\r\n",
    "ylabel(\"1 - Fidelity\")\r\n",
    "fig1.legend(bbox_to_anchor=(0.13, 0.78, 1., .102),loc='upper left', shadow=True, fontsize='small')\r\n",
    "\r\n",
    "plt.savefig('qbstrDJ.png', dpi=300)\r\n",
    "show()"
   ],
   "outputs": [
    {
     "output_type": "display_data",
     "data": {
      "image/png": "[encoded data removed]",
      "text/plain": [
       "<Figure size 432x288 with 2 Axes>"
      ]
     },
     "metadata": {
      "needs_background": "light"
     }
    }
   ],
   "metadata": {
    "jupyter": {
     "source_hidden": true
    }
   }
  },
  {
   "cell_type": "code",
   "execution_count": null,
   "source": [],
   "outputs": [],
   "metadata": {}
  }
 ],
 "metadata": {
  "kernelspec": {
   "display_name": "Python 3",
   "language": "python",
   "name": "python3"
  },
  "language_info": {
   "codemirror_mode": {
    "name": "ipython",
    "version": 3
   },
   "file_extension": ".py",
   "mimetype": "text/x-python",
   "name": "python",
   "nbconvert_exporter": "python",
   "pygments_lexer": "ipython3",
   "version": "3.6.9"
  },
  "toc-autonumbering": false,
  "toc-showcode": false,
  "toc-showmarkdowntxt": false
 },
 "nbformat": 4,
 "nbformat_minor": 4
}