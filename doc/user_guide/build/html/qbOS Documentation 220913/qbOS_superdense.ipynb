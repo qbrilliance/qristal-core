{
 "cells": [
  {
   "cell_type": "markdown",
   "source": [
    "<img src=\"Quantum_Brilliance_dark_blue_Logo_RGB.png\" alt=\"Copyright (c) 2021 Quantum Brilliance Pty Ltd\" width=\"240\">\r\n",
    "\r\n",
    "# qbOS Build 0.0721.002\r\n",
    "> *Quantum Brilliance Operating System supporting a complete set of quantum computational tasks*"
   ],
   "metadata": {}
  },
  {
   "cell_type": "markdown",
   "source": [
    "## Superdense Coding Protocol\n",
    "The superdense coding protocol allows one to **transmit classical information** from one party to another, generally, two classical bits, using a **single qubit**. In a sense, it is a protocol opposite to quantum teleportation.\n"
   ],
   "metadata": {}
  },
  {
   "cell_type": "code",
   "execution_count": 1,
   "source": [
    "import xacc\r\n",
    "import sys\r\n",
    "import qbos"
   ],
   "outputs": [],
   "metadata": {}
  },
  {
   "cell_type": "markdown",
   "source": [
    "Let Alice and Bob be the two parties that wish to exchange two **classical bits** of information (say '01'):\n",
    "\n",
    "| Role | Name |\n",
    "|---|---|\n",
    "| Receiver | Bob |\n",
    "| | ^ |\n",
    "| Message (classical)| '01' |\n",
    "| | ^ |\n",
    "| Sender | Alice |"
   ],
   "metadata": {}
  },
  {
   "cell_type": "markdown",
   "source": [
    "A third party Charlie takes two qubits (`q1` and `q0`) to produce an entangled state by applying a Hadamard gate to his `q0` qubit, which serves as the control qubit for the following CNOT gate on the the target qubit, `q1`.  Next he gives Alice and Bob each a qubit. \n"
   ],
   "metadata": {}
  },
  {
   "cell_type": "markdown",
   "source": [
    "|  | q0 | q1 |\n",
    "| --- | --- | -- |\n",
    "| // Performed by Charlie | | |\n",
    "|| H(q[0]); | |\n",
    "|| CNOT(q[0],q[1]); | |\n",
    "| // q0 given to Alice | | |\n",
    "| // q1 given to Bob | | |\n"
   ],
   "metadata": {}
  },
  {
   "cell_type": "markdown",
   "source": [
    "\n",
    "Depending on the pair of classical bits that Alice wishes to send to Bob, she does one of the following operations on her qubit (`q0`):"
   ],
   "metadata": {}
  },
  {
   "cell_type": "markdown",
   "source": [
    "| Required classical message [c0c1] | Corresponding quantum gates: | q0 |\n",
    "| --- | --- | --- | \n",
    "| '00' | | I(q[0]); |\n",
    "| '10' | | X(q[0]); |\n",
    "| '01' | | Z(q[0]); |\n",
    "| '11' | | X(q[0]);Z(q[0]); |\n",
    "| | |  |\n"
   ],
   "metadata": {}
  },
  {
   "cell_type": "markdown",
   "source": [
    "Alice gives `q0` to Bob, and then Bob proceeds to disentangle and decode the classical message."
   ],
   "metadata": {}
  },
  {
   "cell_type": "markdown",
   "source": [
    "### Generate the quantum circuit for the case that '01' is the classical message"
   ],
   "metadata": {}
  },
  {
   "cell_type": "code",
   "execution_count": 2,
   "source": [
    "generator01 = '''\n",
    ".compiler xasm\n",
    ".circuit superdense_coding01\n",
    ".parameters x\n",
    ".qbit q\n",
    "// Charlie generates entangled pair\n",
    "H(q[0]);\n",
    "CNOT(q[0], q[1]);\n",
    "\n",
    "// Alice sends \"01\"\n",
    "Z(q[0]);\n",
    "\n",
    "// Bob disentangles\n",
    "CNOT(q[0],q[1]);\n",
    "\n",
    "// Bob decodes\n",
    "H(q[0]);\n",
    "\n",
    "// Measurement\n",
    "Measure(q[0]);\n",
    "Measure(q[1]);\n",
    "'''"
   ],
   "outputs": [],
   "metadata": {
    "jupyter": {
     "source_hidden": true
    }
   }
  },
  {
   "cell_type": "code",
   "execution_count": 3,
   "source": [
    "xacc.qasm(generator01)\n",
    "superdense01 = xacc.getCompiled('superdense_coding01')\n",
    "sdstaq = xacc.getCompiler('staq')\n",
    "import re\n",
    "q2oqm = re.sub(r\"qreg q\\[\\d+\\];\", \"\", sdstaq.translate(superdense01))\n",
    "qbstr01 = '__qpu__ void QBCIRCUIT(qreg q) {\\n' + q2oqm + '}'\n",
    "print(qbstr01)"
   ],
   "outputs": [
    {
     "output_type": "stream",
     "name": "stdout",
     "text": [
      "__qpu__ void QBCIRCUIT(qreg q) {\n",
      "OPENQASM 2.0;\n",
      "include \"qelib1.inc\";\n",
      "\n",
      "creg q_c[2];\n",
      "h q[0];\n",
      "CX q[0], q[1];\n",
      "z q[0];\n",
      "CX q[0], q[1];\n",
      "h q[0];\n",
      "measure q[0] -> q_c[0];\n",
      "measure q[1] -> q_c[1];\n",
      "}\n"
     ]
    }
   ],
   "metadata": {
    "jupyter": {
     "source_hidden": true
    }
   }
  },
  {
   "cell_type": "markdown",
   "source": [
    "### Execute the quantum circuit"
   ],
   "metadata": {}
  },
  {
   "cell_type": "code",
   "execution_count": 4,
   "source": [
    "tqb=qbos.core()\n",
    "tqb.qb12()\n",
    "tqb.instring = qbstr01\n",
    "tqb.run()"
   ],
   "outputs": [],
   "metadata": {
    "jupyter": {
     "source_hidden": true
    }
   }
  },
  {
   "cell_type": "markdown",
   "source": [
    "### View the decoded message"
   ],
   "metadata": {}
  },
  {
   "cell_type": "code",
   "execution_count": 5,
   "source": [
    "bit_index = tqb.out_raw[0][0].index(\":\") - 2\n",
    "print(\"Bob receives \",tqb.out_raw[0][0][bit_index],tqb.out_raw[0][0][bit_index-1],sep=\"\")"
   ],
   "outputs": [
    {
     "output_type": "stream",
     "name": "stdout",
     "text": [
      "Bob receives 01\n"
     ]
    }
   ],
   "metadata": {
    "jupyter": {
     "source_hidden": true
    }
   }
  },
  {
   "cell_type": "markdown",
   "source": [
    "### Generate the quantum circuit for the case that '00' is the classical message"
   ],
   "metadata": {}
  },
  {
   "cell_type": "code",
   "execution_count": 6,
   "source": [
    "generator00 = '''\n",
    ".compiler xasm\n",
    ".circuit superdense_coding00\n",
    ".parameters x\n",
    ".qbit q\n",
    "// Charlie generates entangled pair\n",
    "H(q[0]);\n",
    "CNOT(q[0], q[1]);\n",
    "\n",
    "// Alice sends \"00\"\n",
    "// No operation here!\n",
    "\n",
    "// Bob disentangles\n",
    "CNOT(q[0],q[1]);\n",
    "\n",
    "// Bob decodes\n",
    "H(q[0]);\n",
    "\n",
    "// Measurement\n",
    "Measure(q[0]);\n",
    "Measure(q[1]);\n",
    "'''"
   ],
   "outputs": [],
   "metadata": {
    "jupyter": {
     "source_hidden": true
    }
   }
  },
  {
   "cell_type": "code",
   "execution_count": 7,
   "source": [
    "xacc.qasm(generator00)\n",
    "superdense00 = xacc.getCompiled('superdense_coding00')\n",
    "import re\n",
    "q2oqm = re.sub(r\"qreg q\\[\\d+\\];\", \"\", sdstaq.translate(superdense00))\n",
    "qbstr00 = '__qpu__ void QBCIRCUIT(qreg q) {\\n' + q2oqm + '}'\n",
    "print(qbstr00)"
   ],
   "outputs": [
    {
     "output_type": "stream",
     "name": "stdout",
     "text": [
      "__qpu__ void QBCIRCUIT(qreg q) {\n",
      "OPENQASM 2.0;\n",
      "include \"qelib1.inc\";\n",
      "\n",
      "creg q_c[2];\n",
      "h q[0];\n",
      "CX q[0], q[1];\n",
      "CX q[0], q[1];\n",
      "h q[0];\n",
      "measure q[0] -> q_c[0];\n",
      "measure q[1] -> q_c[1];\n",
      "}\n"
     ]
    }
   ],
   "metadata": {
    "jupyter": {
     "source_hidden": true
    }
   }
  },
  {
   "cell_type": "markdown",
   "source": [
    "### Execute the quantum circuit"
   ],
   "metadata": {}
  },
  {
   "cell_type": "code",
   "execution_count": 8,
   "source": [
    "tqb=qbos.core()\n",
    "tqb.qb12()\n",
    "tqb.instring = qbstr00\n",
    "tqb.run()"
   ],
   "outputs": [],
   "metadata": {
    "jupyter": {
     "source_hidden": true
    }
   }
  },
  {
   "cell_type": "markdown",
   "source": [
    "### View the decoded message"
   ],
   "metadata": {}
  },
  {
   "cell_type": "code",
   "execution_count": 9,
   "source": [
    "bit_index = tqb.out_raw[0][0].index(\":\") - 2\n",
    "print(\"Bob receives \",tqb.out_raw[0][0][bit_index],tqb.out_raw[0][0][bit_index-1],sep=\"\")"
   ],
   "outputs": [
    {
     "output_type": "stream",
     "name": "stdout",
     "text": [
      "Bob receives 00\n"
     ]
    }
   ],
   "metadata": {
    "jupyter": {
     "source_hidden": true
    }
   }
  }
 ],
 "metadata": {
  "kernelspec": {
   "display_name": "Python 3",
   "language": "python",
   "name": "python3"
  },
  "language_info": {
   "codemirror_mode": {
    "name": "ipython",
    "version": 3
   },
   "file_extension": ".py",
   "mimetype": "text/x-python",
   "name": "python",
   "nbconvert_exporter": "python",
   "pygments_lexer": "ipython3",
   "version": "3.6.9"
  }
 },
 "nbformat": 4,
 "nbformat_minor": 4
}