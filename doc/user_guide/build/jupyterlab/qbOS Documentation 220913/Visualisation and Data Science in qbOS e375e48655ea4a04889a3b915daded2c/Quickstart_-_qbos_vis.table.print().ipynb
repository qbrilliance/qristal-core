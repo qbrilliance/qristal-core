{
 "cells": [
  {
   "cell_type": "markdown",
   "metadata": {},
   "source": [
    "<img src=\"Quantum_Brilliance_dark_blue_Logo_RGB.png\" alt=\"Copyright (c) 2022 Quantum Brilliance Pty Ltd\" width=\"240\">"
   ]
  },
  {
   "cell_type": "markdown",
   "metadata": {},
   "source": [
    "## Quickstart guide for `qbos_vis.table.print()`\n",
    "\n",
    "**For Jupyter notebook use only**\n",
    "\n",
    "This function produces a tabulated version of an OpenQASM QPU kernel to improve readability.\n",
    "\n",
    "### Import statement\n",
    "```\n",
    "import qbos_vis.table\n",
    "```\n",
    "### Inputs\n",
    "#### - Required inputs\n",
    "```\n",
    "in_openqasm : QPU kernel in OpenQASM 2.0 format\n",
    "```\n",
    "#### - Optional inputs\n",
    "```\n",
    "N/A\n",
    "```\n",
    "### Calling the function and what it does to the inputs\n",
    "```\n",
    "qbos_vis.table.print(in_openqasm)\n",
    "```\n",
    "The OpenQASM input is parsed into a table, where the target qubit to which each 1-qubit gate is applied sets the column in which the gate appears.  For 2-qubit gates, the control qubit sets the column instead.\n",
    "\n",
    "### Outputs\n",
    "\n",
    "A tabulated version of an OpenQASM 2.0 format QPU kernel"
   ]
  },
  {
   "cell_type": "code",
   "execution_count": 1,
   "metadata": {
    "jupyter": {
     "source_hidden": true
    }
   },
   "outputs": [],
   "source": [
    "import qbos_vis\n",
    "import qbos_vis.table as qvt\n",
    "import qbos"
   ]
  },
  {
   "cell_type": "code",
   "execution_count": 2,
   "metadata": {
    "jupyter": {
     "source_hidden": true
    }
   },
   "outputs": [],
   "source": [
    "tqb = qbos.core()\n",
    "tqb.qb12()\n",
    "tqb.qn = 2\n",
    "tqb.random = 1\n",
    "tqb.run()"
   ]
  },
  {
   "cell_type": "code",
   "execution_count": 3,
   "metadata": {},
   "outputs": [
    {
     "name": "stdout",
     "output_type": "stream",
     "text": [
      "\n",
      "__qpu__ void QBCIRCUIT(qreg q) {\n",
      "OPENQASM 2.0;\n",
      "include \"qelib1.inc\";\n",
      "u(1.5708, 0, 0) q[0];\n",
      "u(3.14159, -1.5708, 1.5708) q[0];\n",
      "cz q[1],q[0];\n",
      "u(1.5708, 0, 0) q[0];\n",
      "u(3.14159, -1.5708, 1.5708) q[0];\n",
      "u(0, 0, 0.0266059) q[0];\n",
      "u(1.5708, 0, 0) q[0];\n",
      "u(3.14159, -1.5708, 1.5708) q[0];\n",
      "cz q[1],q[0];\n",
      "u(1.5708, 0, 0) q[0];\n",
      "u(3.14159, -1.5708, 1.5708) q[0];\n",
      "creg c0[1];\n",
      "measure q[0] -> c0[0];\n",
      "creg c1[1];\n",
      "measure q[1] -> c1[0];\n",
      "\n",
      "}\n",
      "\n"
     ]
    }
   ],
   "source": [
    "print(tqb.out_transpiled_circuit[0][0])"
   ]
  },
  {
   "cell_type": "code",
   "execution_count": 4,
   "metadata": {},
   "outputs": [
    {
     "data": {
      "text/markdown": [
       "| q0 | q1 |\n",
       "| --- | --- |\n",
       "|U(1.5708,0,0) q0|\n",
       "|U(3.14159,-1.5708,1.5708) q0|\n",
       "||CZ q1,q0|\n",
       "|U(1.5708,0,0) q0|\n",
       "|U(3.14159,-1.5708,1.5708) q0|\n",
       "|U(0,0,0.0266059) q0|\n",
       "|U(1.5708,0,0) q0|\n",
       "|U(3.14159,-1.5708,1.5708) q0|\n",
       "||CZ q1,q0|\n",
       "|U(1.5708,0,0) q0|\n",
       "|U(3.14159,-1.5708,1.5708) q0|\n",
       "|Measure q0|\n",
       "||Measure q1|"
      ],
      "text/plain": [
       "<IPython.core.display.Markdown object>"
      ]
     },
     "metadata": {},
     "output_type": "display_data"
    }
   ],
   "source": [
    "qvt.print(tqb.out_transpiled_circuit[0][0])"
   ]
  }
 ],
 "metadata": {
  "kernelspec": {
   "display_name": "Python 3",
   "language": "python",
   "name": "python3"
  },
  "language_info": {
   "codemirror_mode": {
    "name": "ipython",
    "version": 3
   },
   "file_extension": ".py",
   "mimetype": "text/x-python",
   "name": "python",
   "nbconvert_exporter": "python",
   "pygments_lexer": "ipython3",
   "version": "3.6.9"
  }
 },
 "nbformat": 4,
 "nbformat_minor": 4
}
