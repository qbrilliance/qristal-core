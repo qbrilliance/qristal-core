{
 "cells": [
  {
   "cell_type": "markdown",
   "source": [
    "<img src=\"Quantum_Brilliance_dark_blue_Logo_RGB.png\" alt=\"Copyright (c) 2021 Quantum Brilliance Pty Ltd\" width=\"240\">\r\n",
    "\r\n",
    "# qbOS Build 0.0721.002\r\n",
    "> *Quantum Brilliance Operating System supporting a complete set of quantum computational tasks*"
   ],
   "metadata": {}
  },
  {
   "cell_type": "markdown",
   "source": [
    "## Bernstein-Vazirani Algorithm\n",
    "\n",
    "This algorithm works with the function, `f`:\n",
    "\n",
    "$ \\hspace{1cm} f_s(x) = (s \\cdot x ) \\text{ mod 2} $\n",
    "\n",
    "$ \\text{where:} $\n",
    "\n",
    "$ s \\text{ is a fixed \"secret\" bitstring} $\n",
    "\n",
    "$ x \\text{ is a bitstring query that is an attempt to discover the \"secret\" }$\n",
    "\n",
    "In classical computing, discovering the secret would require `n` queries, where `n` is the number of bits in the secret string:\n",
    "\n",
    "$ \\hspace{1cm} x = 2^i, \\;\\; \\forall i \\; \\in \\; [0, n-1] $\n",
    "\n",
    "By contrast the Bernstein-Vazirani quantum algorithm requires only 1 call to `f`."
   ],
   "metadata": {}
  },
  {
   "cell_type": "code",
   "execution_count": 1,
   "source": [
    "import xacc\n",
    "import sys\n",
    "import re\n",
    "import statistics as stat\n",
    "import qbos"
   ],
   "outputs": [],
   "metadata": {}
  },
  {
   "cell_type": "markdown",
   "source": [
    "### User inputs"
   ],
   "metadata": {}
  },
  {
   "cell_type": "code",
   "execution_count": 2,
   "source": [
    "min_qubits = 14       # Lower bound for a sweep over #qubits in the secret, s \n",
    "max_qubits = 16       # Upper bound for a sweep over #qubits in the secret, s\n",
    "repetitions = 1\n",
    "\n",
    "acc_string = 'aer'    # aer is required for noise-enabled results"
   ],
   "outputs": [],
   "metadata": {}
  },
  {
   "cell_type": "markdown",
   "source": [
    "### Bernstein-Vazirani experiment design\n",
    "\n",
    "| Bernstein-Vazirani | Conditions | Noise: disabled | Noise: enabled |\n",
    "| --- | --- | --- | --- |\n",
    "| | Common to all: shots = 256 |  |  |\n",
    "| 14-qubit secret | QPU Kernel: `gen_qbstrBV(14)` | `Acquire shot counts from aer simulation` | `Acquire shot counts from aer simulation` |\n",
    "| 15-qubit secret | QPU Kernel: `gen_qbstrBV(15)` | `Acquire shot counts from aer simulation` | `Acquire shot counts from aer simulation` |\n",
    "| 16-qubit secret | QPU Kernel: `gen_qbstrBV(16)` | `Acquire shot counts from aer simulation` | `Acquire shot counts from aer simulation` |"
   ],
   "metadata": {}
  },
  {
   "cell_type": "markdown",
   "source": [
    "### Circuit generator for Bernstein-Vazirani algorithm, secret = \"1010...10\""
   ],
   "metadata": {}
  },
  {
   "cell_type": "code",
   "execution_count": 3,
   "source": [
    "def gen_qbstrBV(nb_qubits):\n",
    "    output = nb_qubits - 1\n",
    "    # Generate oracle\n",
    "    oracle = [qubit for qubit in range(output) if qubit%2 ]\n",
    "    \n",
    "    ## qasm input\n",
    "    prefix = '''.compiler xasm\\n.circuit BV_example\\n.parameters x\\n.qbit q'''\n",
    "    \n",
    "    # Initialisation\n",
    "    initialisation = '''\\n// Initialise\\n'''\n",
    "    for qubit in range(output+1):\n",
    "        initialisation += '''H(q[%i]);\\n''' % qubit\n",
    "    initialisation += '''Z(q[%i]);\\n''' % output\n",
    "    \n",
    "    # Oracle\n",
    "    oracle_string = '''\\n// Oracle\\n'''\n",
    "    for qubit in oracle:\n",
    "        oracle_string += '''CNOT(q[%i],q[%i]);\\n''' % (qubit,output)\n",
    "        \n",
    "    # Unentangle\n",
    "    unentangle = '''\\n// Unentangle\\n'''\n",
    "    for qubit in range(output+1):\n",
    "        unentangle += '''H(q[%i]);\\n''' % qubit\n",
    "        \n",
    "    # Measurement\n",
    "    measurement = '''\\n// Measurement\\n'''\n",
    "    for qubit in range(output):\n",
    "        measurement += '''Measure(q[%i]);\\n''' % qubit\n",
    "    generator = prefix + initialisation + oracle_string + unentangle + measurement\n",
    "\n",
    "    # Convert input string\n",
    "    xacc.qasm(generator)\n",
    "    BV_example = xacc.getCompiled('BV_example')\n",
    "    sdstaq = xacc.getCompiler('staq')\n",
    "    q2oqm = re.sub(r\"qreg q\\[\\d+\\];\", \"\", sdstaq.translate(BV_example))\n",
    "    return '__qpu__ void QBCIRCUIT(qreg q) {\\n' + q2oqm + '}'\n",
    "    "
   ],
   "outputs": [],
   "metadata": {
    "jupyter": {
     "source_hidden": true
    }
   }
  },
  {
   "cell_type": "markdown",
   "source": [
    "## Setup all conditions for the experiment"
   ],
   "metadata": {}
  },
  {
   "cell_type": "code",
   "execution_count": 4,
   "source": [
    "range_qubits = list(range(min_qubits+1,max_qubits+2))\n",
    "sweepstr = [gen_qbstrBV(el) for el in range_qubits for rep in range(repetitions)]\n",
    "qubit_range = [qubit for qubit in range_qubits for rep in range(repetitions)]"
   ],
   "outputs": [],
   "metadata": {}
  },
  {
   "cell_type": "code",
   "execution_count": 5,
   "source": [
    "tqb=qbos.core()\n",
    "tqb.qb12()\n",
    "\n",
    "# Back end simulator\n",
    "tqb.acc=acc_string\n",
    "\n",
    "# Number of shots\n",
    "tqb.sn[0].clear()\n",
    "sweep = [256]\n",
    "[tqb.sn[0].append(bb) for bb in sweep]\n",
    "\n",
    "# Noise enabled\n",
    "tqb.noise[0].clear()\n",
    "sweep = [False,True]\n",
    "[tqb.noise[0].append(bb) for bb in sweep]\n",
    "\n",
    "# Circuits\n",
    "tqb.instrings.clear()\n",
    "tqb.qns.clear()\n",
    "for nb_index in range(len(qubit_range)):\n",
    "    tqb.qns.append(qbos.N()) \n",
    "    tqb.qns[nb_index].append(1+qubit_range[nb_index])\n",
    "    tqb.instrings.append(qbos.String()) \n",
    "    tqb.instrings[nb_index].append(sweepstr[nb_index])"
   ],
   "outputs": [],
   "metadata": {}
  },
  {
   "cell_type": "markdown",
   "source": [
    "## Execute the quantum circuits"
   ],
   "metadata": {}
  },
  {
   "cell_type": "code",
   "execution_count": 6,
   "source": [
    "tqb.run()"
   ],
   "outputs": [],
   "metadata": {}
  },
  {
   "cell_type": "markdown",
   "source": [
    "## Results for 14-qubit secret"
   ],
   "metadata": {}
  },
  {
   "cell_type": "markdown",
   "source": [
    "### Noise-free"
   ],
   "metadata": {}
  },
  {
   "cell_type": "code",
   "execution_count": 7,
   "source": [
    "print('Noise-free counts:')\n",
    "print(tqb.out_raw[0][0])"
   ],
   "outputs": [
    {
     "output_type": "stream",
     "name": "stdout",
     "text": [
      "Noise-free counts:\n",
      "{\n",
      "    \"10101010101010\": 256\n",
      "}\n"
     ]
    }
   ],
   "metadata": {}
  },
  {
   "cell_type": "markdown",
   "source": [
    "### Noise-enabled "
   ],
   "metadata": {}
  },
  {
   "cell_type": "code",
   "execution_count": 8,
   "source": [
    "print('Noisy counts:')\n",
    "print(tqb.out_raw[0][1])"
   ],
   "outputs": [
    {
     "output_type": "stream",
     "name": "stdout",
     "text": [
      "Noisy counts:\n",
      "{\n",
      "    \"00101010101010\": 3,\n",
      "    \"10001010101010\": 4,\n",
      "    \"10100010001010\": 1,\n",
      "    \"10100010101010\": 2,\n",
      "    \"10101000101010\": 2,\n",
      "    \"10101000111010\": 1,\n",
      "    \"10101001101010\": 1,\n",
      "    \"10101010001010\": 1,\n",
      "    \"10101010100010\": 3,\n",
      "    \"10101010101000\": 3,\n",
      "    \"10101010101010\": 226,\n",
      "    \"10101010101110\": 3,\n",
      "    \"10101010111010\": 1,\n",
      "    \"10101011101010\": 1,\n",
      "    \"10101011101011\": 1,\n",
      "    \"10101110101010\": 1,\n",
      "    \"10111010101010\": 1,\n",
      "    \"11101010101011\": 1\n",
      "}\n"
     ]
    }
   ],
   "metadata": {
    "collapsed": true,
    "jupyter": {
     "outputs_hidden": true,
     "source_hidden": true
    }
   }
  },
  {
   "cell_type": "markdown",
   "source": [
    "## Result for 16-qubit secret"
   ],
   "metadata": {}
  },
  {
   "cell_type": "markdown",
   "source": [
    "### Noise-free"
   ],
   "metadata": {}
  },
  {
   "cell_type": "code",
   "execution_count": 9,
   "source": [
    "print('Noise-free counts:')\n",
    "print(tqb.out_raw[2][0])"
   ],
   "outputs": [
    {
     "output_type": "stream",
     "name": "stdout",
     "text": [
      "Noise-free counts:\n",
      "{\n",
      "    \"1010101010101010\": 256\n",
      "}\n"
     ]
    }
   ],
   "metadata": {
    "collapsed": true,
    "jupyter": {
     "outputs_hidden": true,
     "source_hidden": true
    }
   }
  },
  {
   "cell_type": "markdown",
   "source": [
    "### Noise-enabled"
   ],
   "metadata": {}
  },
  {
   "cell_type": "code",
   "execution_count": 10,
   "source": [
    "print('Noisy counts:')\n",
    "print(tqb.out_raw[2][1])"
   ],
   "outputs": [
    {
     "output_type": "stream",
     "name": "stdout",
     "text": [
      "Noisy counts:\n",
      "{\n",
      "    \"0010101010101010\": 1,\n",
      "    \"1000101010101010\": 5,\n",
      "    \"1010001010101010\": 3,\n",
      "    \"1010100010101010\": 2,\n",
      "    \"1010101000101010\": 2,\n",
      "    \"1010101010001010\": 5,\n",
      "    \"1010101010100010\": 1,\n",
      "    \"1010101010101000\": 2,\n",
      "    \"1010101010101010\": 214,\n",
      "    \"1010101010101011\": 4,\n",
      "    \"1010101010101110\": 1,\n",
      "    \"1010101010111010\": 4,\n",
      "    \"1010101011101010\": 1,\n",
      "    \"1010101110101010\": 2,\n",
      "    \"1010101110101011\": 1,\n",
      "    \"1010111010100010\": 1,\n",
      "    \"1010111010101010\": 3,\n",
      "    \"1011101010101010\": 3,\n",
      "    \"1110101010101010\": 1\n",
      "}\n"
     ]
    }
   ],
   "metadata": {
    "jupyter": {
     "source_hidden": true
    }
   }
  }
 ],
 "metadata": {
  "kernelspec": {
   "display_name": "Python 3",
   "language": "python",
   "name": "python3"
  },
  "language_info": {
   "codemirror_mode": {
    "name": "ipython",
    "version": 3
   },
   "file_extension": ".py",
   "mimetype": "text/x-python",
   "name": "python",
   "nbconvert_exporter": "python",
   "pygments_lexer": "ipython3",
   "version": "3.6.9"
  }
 },
 "nbformat": 4,
 "nbformat_minor": 4
}