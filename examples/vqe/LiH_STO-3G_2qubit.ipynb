{
 "cells": [
  {
   "cell_type": "markdown",
   "metadata": {},
   "source": [
    "\n",
    "# LiH (CAS-CI) in STO-3G on 2 qubits\n",
    "\n",
    "This notebook features a CAS-CI (frozen FCI) calculation of the LiH molecule on 2 qubits using the VQE module of `qbos`. The molecule is considered near its equilibrium geometry with a bond distance of 3.01$\\,$a.u. For further details on the construction of the Pauli string `qv.ham` please refer to the notebook `Automatic_Pauli_string_generation.ipynb`\n",
    "In section (2), the obtained VQE energy is compared to exact FCI results and confirmed with classical algorithms of `pyscf`. \n",
    "\n",
    "## (1) VQE\n"
   ]
  },
  {
   "cell_type": "code",
   "execution_count": 1,
   "metadata": {},
   "outputs": [
    {
     "name": "stdout",
     "output_type": "stream",
     "text": [
      "-------------------------------\n",
      "VQE converged in 13 iterations!\n",
      "-------- LiH (2 qubit) --------\n",
      "E_nuc = 0.996677740864\n",
      "E_SCF = -7.862090582013\n",
      "E_VQE = -7.877228452039\n",
      "(E_corr = -0.015137870026)\n",
      "-------------------------------\n"
     ]
    }
   ],
   "source": [
    "import qbos_op\n",
    "from scipy.optimize import Bounds, minimize\n",
    "import numpy as np\n",
    "\n",
    "enuc = 3.0*1.0/3.01 #nuclear repulsion of LiH molecule, 3.01 a.u. apart\n",
    "\n",
    "# define vqe function for optimizer \n",
    "def qbvqe(theta):\n",
    "    qv = qbos_op.vqe()\n",
    "    qv.sn = 0 #non-stochastic run\n",
    "    qv.qn = 2 #number of qubits\n",
    "    qv.ham = \"-8.274124621314588 + 0.009854759096094727 X1+ -0.2520374283555413 Z1+ 0.017037474116480503 X0+ 0.04808296135884618 X0 X1+ 0.006424616021402164 X0 Z1+ -0.07576596838820628 Y0 Y1+ -0.27006470525930126 Z0+ -0.009854759096094866 Z0 X1+ -0.06254156794725363 Z0 Z1\"\n",
    "    qv.ansatz ='''\n",
    ".compiler xasm \n",
    ".circuit qbos_ansatz\n",
    ".parameters theta\n",
    ".qbit q\n",
    "    Ry(q[0], theta[0]);\n",
    "    Ry(q[1], theta[1]);\n",
    "    CX(q[0], q[1]);\n",
    "    Ry(q[1], theta[2]);\n",
    "'''\n",
    "    qv.theta = qbos_op.ND()\n",
    "    qv.theta[0][0][0] = theta[0]\n",
    "    qv.theta[0][0][1] = theta[1]\n",
    "    qv.theta[0][0][2] = theta[2]\n",
    "    qv.run()\n",
    "    return qv.out_energy[0][0][0]\n",
    "\n",
    "#(2) connect to optimizer and print results\n",
    "escf = qbvqe([0.0, 0.0, 0.0]) #get HF energy from initial guess\n",
    "theta = np.array([0.0, 0.0, 0.0])\n",
    "res = minimize(qbvqe, \n",
    "               theta, \n",
    "               method = 'SLSQP', \n",
    "               options = {'maxiter' : 50, 'ftol' : 1e-12}, \n",
    "               bounds = Bounds(-np.pi, np.pi, True))\n",
    "evqe = res.fun\n",
    "print(\"-------------------------------\")\n",
    "if (res.nit < 50):\n",
    "    print(\"VQE converged in \" + str(res.nit) + \" iterations!\")\n",
    "else:\n",
    "    print(\"Beware! VQE might not have converged in \" + str(res.nit) + \" iterations!\")\n",
    "                \n",
    "print(\"-------- LiH (2 qubit) --------\")\n",
    "print(\"E_nuc = %.12f\" % enuc)\n",
    "print(\"E_SCF = %.12f\" % (escf + enuc))\n",
    "print(\"E_VQE = %.12f\" % (evqe + enuc))\n",
    "print(\"(E_corr = %.12f)\" % (evqe - escf))\n",
    "print(\"-------------------------------\")"
   ]
  },
  {
   "cell_type": "markdown",
   "metadata": {},
   "source": [
    "\n",
    "## (2) Comparison to `pyscf`\n"
   ]
  },
  {
   "cell_type": "code",
   "execution_count": 2,
   "metadata": {},
   "outputs": [
    {
     "name": "stdout",
     "output_type": "stream",
     "text": [
      "converged SCF energy = -7.8620905820129\n",
      "E(RCISD) = -7.877228452039222  E_corr = -0.01513787002632226\n",
      "---------------------------\n",
      "     Method |    Energy [a.u.]\n",
      "---------------------------\n",
      "SCF         |  -7.862090582013\n",
      "FCI (exact) |  -7.882433451024\n",
      "frozen FCI  |  -7.877228452039\n",
      "VQE         |  -7.877228452039\n"
     ]
    }
   ],
   "source": [
    "from pyscf import gto, scf, ci, fci\n",
    "\n",
    "# (1) define molecule\n",
    "mol = gto.Mole()\n",
    "mol.build(\n",
    "        atom = '''Li 0 0 -1.505; H 0 0 +1.505''',\n",
    "        unit = 'B',\n",
    "        basis = 'sto-3g',\n",
    "        symmetry = 'Coov'\n",
    "        )\n",
    "\n",
    "# (2) do SCF\n",
    "mf = scf.RHF(mol)\n",
    "mf.conv_tol = 1e-12\n",
    "mf.conv_tol_grad = 1e-12\n",
    "mf.max_cycle = 200\n",
    "mf.kernel()\n",
    "escf = mf.e_tot\n",
    "\n",
    "# (3) do FCI\n",
    "fcisolver = fci.FCI(mf)\n",
    "fcisolver.conv_tol = 1e-12\n",
    "efci = fcisolver.kernel()[0]\n",
    "\n",
    "# (4) do frozen CISD to compare to VQE\n",
    "cisolver = ci.CISD(mf,  frozen = [0,2,3])\n",
    "cisolver.conv_tol = 1e-12\n",
    "eci = cisolver.kernel()[0] + mf.e_tot\n",
    "\n",
    "# (4) print results\n",
    "print(\"---------------------------\")\n",
    "print(\"{:>11} | {:>16}\".format('Method','Energy [a.u.]'))\n",
    "print(\"---------------------------\")\n",
    "print(\"{0:<11} | {1:>16.12f}\".format('SCF', escf))\n",
    "print(\"{0:<11} | {1:>16.12f}\".format('FCI (exact)', efci))\n",
    "print(\"{0:<11} | {1:>16.12f}\".format('frozen FCI', eci))\n",
    "print(\"{0:<11} | {1:>16.12f}\".format('VQE', evqe + enuc))\n"
   ]
  }
 ],
 "metadata": {
  "kernelspec": {
   "display_name": "Python 3",
   "language": "python",
   "name": "python3"
  },
  "language_info": {
   "codemirror_mode": {
    "name": "ipython",
    "version": 3
   },
   "file_extension": ".py",
   "mimetype": "text/x-python",
   "name": "python",
   "nbconvert_exporter": "python",
   "pygments_lexer": "ipython3",
   "version": "3.6.9"
  }
 },
 "nbformat": 4,
 "nbformat_minor": 4
}
