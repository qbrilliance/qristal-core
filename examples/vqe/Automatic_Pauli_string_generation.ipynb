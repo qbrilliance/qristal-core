{
 "cells": [
  {
   "cell_type": "markdown",
   "metadata": {},
   "source": [
    "\n",
    "# Automatic Pauli string generation\n",
    "\n",
    "To prepare VQE measurement circuits, the molecular Hamiltonian $\\hat{H}$ needs to be represented by products of the Pauli spin operators. A straightforward procedure to do this, is to map the creation and annihilation operators of the second quantized representation of $\\hat{H}$ to Pauli operators. Due to the two particle interrelating nature of $\\hat{H}$ this expansion scales polynomially ($\\sim n_{\\text{vir}}^4$) with the system size (e.g., the number of virtual orbitals $n_{\\text{vir}}$). Unfortunately, it also requires to map each qubit to individual spin orbitals. So on $N$ qubit devices, the problem size is limited to $N$ spin orbitals. \n",
    "\n",
    "A different approach is to represent $\\hat{H}$ directly in a many-particle basis $\\{|\\Phi_i\\rangle\\}$ via \n",
    "$$\n",
    "\\hat{H} = 1\\hat{H}1 = \\sum_{ij} |\\Phi_i\\rangle\\underbrace{\\langle\\Phi_i|\\hat{H}|\\Phi_j\\rangle}_{H_{ij}}\\langle\\Phi_j| = \\sum_{ij}H_{ij} |\\Phi_i\\rangle\\langle\\Phi_j |\n",
    "$$\n",
    "and then to decompose matrix $H$ into products of Pauli operators. This technique has the advantage that many-particle bases composed of $2^N$ many-particle functions can be mapped to $N$ qubits. Furthermore, the basis $\\{|\\Phi_i\\rangle\\}$ can be chosen such that all possible qubit states implicitly conserve (i) particle number, (ii) spin multiplicity, and (iii) spatial (molecular) symmetry. A major drawback, however, is that the number of matrix elements $H_{ij}$ scales factorially with the system size (e.g., the number of virtual orbitals). On small quantum devices with a limited number of qubits, the many-particle basis mapping should still be superior to the second quantized mapping.\n",
    "\n",
    "In this notebook, the automatic (i) generation of matrices $H$ and (ii) decomposition of $H$ into Pauli strings is presented.\n",
    "\n",
    "## (1) Basic data structures \n",
    "\n",
    "The following listings define data structures fundamental to quantum chemistry, which are helpful when calculating Hamiltonian matrix elements $H_{ij}$ by means of the Slater-Condon rules. \n",
    "\n",
    "### `SpatialOrbitalIndex`\n",
    "\n",
    "The most fundamental object in post-Hartree-Fock theory is a single spatial orbital $|\\varphi_p(\\vec{r})\\rangle$, i.e., a single molecular orbital obtained from a restricted Hartree-Fock calculation. In the following listing, this is represented by `SpatialOrbitalIndex` objects.\n"
   ]
  },
  {
   "cell_type": "code",
   "execution_count": 1,
   "metadata": {},
   "outputs": [
    {
     "name": "stdout",
     "output_type": "stream",
     "text": [
      "Created spatial orbital 0\n"
     ]
    }
   ],
   "source": [
    "class SpatialOrbitalIndex:\n",
    "    '''A single spatial orbital index'''\n",
    "    def __init__(self, idx:int):\n",
    "        self.idx = idx\n",
    "    def __str__(self) -> str:\n",
    "        return str(self.idx)\n",
    "    \n",
    "#examples:\n",
    "p = SpatialOrbitalIndex(0)\n",
    "print(\"Created spatial orbital \" + str(p))"
   ]
  },
  {
   "cell_type": "markdown",
   "metadata": {},
   "source": [
    "\n",
    "### `SingleElectronSpin`\n",
    "\n",
    "The electron's fundamental spin functions $|\\alpha\\rangle$ or \"up\" and $|\\beta\\rangle$ or \"down\" are represented by `SingleElectronSpin` objects.  "
   ]
  },
  {
   "cell_type": "code",
   "execution_count": 2,
   "metadata": {},
   "outputs": [
    {
     "name": "stdout",
     "output_type": "stream",
     "text": [
      "Created spin up: + and spin down: -\n"
     ]
    }
   ],
   "source": [
    "class SingleElectronSpin:\n",
    "    '''A single electron's spin (either alpha or beta)'''\n",
    "    def __init__(self, spin:bool):\n",
    "        self.sz = spin\n",
    "    \n",
    "    @classmethod\n",
    "    def from_str(cls, spin:str):\n",
    "        if (spin == '+'):\n",
    "            return cls(False)\n",
    "        elif (spin == '-'):\n",
    "            return cls(True)\n",
    "        else:\n",
    "            raise ValueError(\"Wrong string input for SingleElectronSpin.from_str( \" + spin + \" )\")\n",
    "    \n",
    "    def __str__(self) -> str:\n",
    "        if (self.sz == False):\n",
    "            return \"+\"\n",
    "        else:\n",
    "            return \"-\"\n",
    "\n",
    "#examples:\n",
    "up = SingleElectronSpin(False) #either bool input\n",
    "down = SingleElectronSpin.from_str(\"-\") #or from string\n",
    "print(\"Created spin up: \" + str(up) + \" and spin down: \" + str(down))"
   ]
  },
  {
   "cell_type": "markdown",
   "metadata": {},
   "source": [
    "\n",
    "### `SpinOrbitalIndex`\n",
    "\n",
    "Each spatial orbital can be combined with either $|\\alpha\\rangle$ or $|\\beta\\rangle$ spin functions to yield spin orbitals $|\\chi_p\\rangle$. These are represented by `SpinOrbitalIndex` objects.\n"
   ]
  },
  {
   "cell_type": "code",
   "execution_count": 3,
   "metadata": {},
   "outputs": [
    {
     "name": "stdout",
     "output_type": "stream",
     "text": [
      "Created spin orbitals 0+ and 0-\n"
     ]
    }
   ],
   "source": [
    "import re\n",
    "\n",
    "class SpinOrbitalIndex:\n",
    "    '''A single spin orbital index composed of \n",
    "    (i) a spatial orbital index (SpatialOrbitalIndex) \n",
    "    (ii) a single spin (SingleElectronSpin)'''\n",
    "    def __init__(self, idx:SpatialOrbitalIndex, spin:SingleElectronSpin):\n",
    "        self.mo_idx = idx\n",
    "        self.spin = spin\n",
    "\n",
    "    @classmethod\n",
    "    def from_str(cls, s:str):\n",
    "        if re.match(\"^([0-9]+[+|-])\", s):\n",
    "            match = re.findall(\"^([0-9]+)([+|-])\", s)\n",
    "            return cls(SpatialOrbitalIndex(int(match[0][0])), SingleElectronSpin.from_str(match[0][1]))\n",
    "        else:\n",
    "            raise ValueError(\"Wrong string input for SpinOrbitalIndex.from_str( \" + s + \" )\")\n",
    "\n",
    "    def integrate_spin(self, other):\n",
    "        if self.spin.sz == other.spin.sz:\n",
    "            return 1.0\n",
    "        return 0.0\n",
    "\n",
    "    #Transform stored spatial orbital index and spin to unique spin orbital index\n",
    "    def so_idx(self) -> int:\n",
    "        return 2*self.mo_idx.idx + self.spin.sz\n",
    "\n",
    "    def __str__(self) -> str:\n",
    "        return str(self.mo_idx) + str(self.spin)\n",
    "    \n",
    "    #define comparison operators to allow usage in SortedList\n",
    "    def __hash__(self) -> int:\n",
    "        return self.so_idx()\n",
    "    def __eq__(self, other) -> bool:\n",
    "        return self.so_idx() == other.so_idx()\n",
    "    def __lt__(self, other) -> bool:\n",
    "        return self.so_idx() < other.so_idx()\n",
    "    \n",
    "#examples \n",
    "p_up = SpinOrbitalIndex(p, up)\n",
    "p_down = SpinOrbitalIndex.from_str(\"0-\")\n",
    "print(\"Created spin orbitals \" + str(p_up) + \" and \" + str(p_down))"
   ]
  },
  {
   "cell_type": "markdown",
   "metadata": {},
   "source": [
    "\n",
    "### `SlaterDeterminant`\n",
    "\n",
    "Fermionic many-particle functions need to be antisymmetric w.r.t. particle transpositions. This can be realized by antisymmetric products of spin orbitals called Slater determinants. In general, a Slater determinant for $n$ particles is given by\n",
    "\n",
    "$$\n",
    "|\\Psi\\rangle = \\sqrt{n!}\\mathcal{A}\\prod_{i=1}^N |\\chi_i\\rangle \\equiv |\\chi_1\\chi_2\\ldots\\chi_n\\rangle\\,,\n",
    "$$\n",
    "\n",
    "where $\\mathcal{A}$ denotes the antisymmetrizer with \n",
    "\n",
    "$$\n",
    "\\mathcal{A} = \\frac{1}{n!}\\sum_{\\hat{P}\\in\\mathcal{S}_n} (-1)^{p(\\hat{P})}\\hat{P}\\,.\n",
    "$$\n",
    "\n",
    "Here, the permutations $\\hat{P}$ are elements of the symmetric group, $\\mathcal{S}_n$, of order $n$ and $p(\\hat{P})$ denotes the parity of permutation $\\hat{P}$.\n",
    "Due to the antisymmetry, it is customary to order the spin orbital labels in ascending order and keep track of an overall sign $s$.\n",
    "A single Slater determinant therefore caries information about \n",
    "\n",
    "1. its occupied spin orbitals $i < j < k < \\ldots$, and\n",
    "2. its sign $s$.\n",
    "\n",
    "In the following listing, the class `SlaterDeterminant` is defined, which contains a `SortedSet` of `SpinOrbitalIndex` objects called `orbitals` and an integer `sign`. The second quantized creation and annihilation operators are realized by `create(SpinOrbitalIndex)` and `annihilate(SpinOrbitalIndex)` member functions and adjust the determinants sign if needed.\n"
   ]
  },
  {
   "cell_type": "code",
   "execution_count": 4,
   "metadata": {},
   "outputs": [
    {
     "name": "stdout",
     "output_type": "stream",
     "text": [
      "Created Slater determinants +|0+, 0-> , -|0+, 0-> , and -|0+, 0->\n"
     ]
    }
   ],
   "source": [
    "from sortedcontainers import SortedSet\n",
    "from typing import List\n",
    "\n",
    "class SlaterDeterminant:\n",
    "    '''A single Slater determinant composed of \n",
    "    (i) a sorted set of spin orbitals \n",
    "    (ii) a sign\n",
    "    To ensure the correct sign, use create/annihilate functions to add or remove orbitals'''\n",
    "\n",
    "    #initialize from orbital list (possibly unsorted)\n",
    "    #create orbitals in reversed order. \n",
    "    #e.g.( [0+,1-,2+,1+], +1) -> +|1+> -> -|1+, 2+> -> +|1+, 1-, 2+> -> +|0+, 1+, 1-, 2+>\n",
    "    def __init__(self, orbitals:List[SpinOrbitalIndex] = [], sign:int = +1):\n",
    "        self.orbitals = SortedSet([])\n",
    "        self.sign = sign\n",
    "        for i in orbitals[::-1]:\n",
    "            self.create(i)\n",
    "\n",
    "    #construct directly from orbital string e.g. \"0+1-2+...\"\n",
    "    #orbitals will be created in reversed order! (..., 2+, 1-, 0+) \n",
    "    @classmethod\n",
    "    def from_str(cls, orbitalstring:str, sign:int = +1):\n",
    "        if re.match(\"^([0-9]+[+|-])\", orbitalstring):\n",
    "            matches = re.findall(\"([0-9]+[+|-])\", orbitalstring)\n",
    "            orbitallist = []\n",
    "            for i in matches:\n",
    "                o = SpinOrbitalIndex.from_str(i)\n",
    "                orbitallist.append(o)\n",
    "            return cls(orbitallist, sign)\n",
    "        else:\n",
    "            raise ValueError(\"Wrong string input for SlaterDeterminant.from_str( \" + orbitalstring + \" )\")\n",
    "\n",
    "    def create(self, so:SpinOrbitalIndex):\n",
    "        if self.sign == 0:\n",
    "            return #do nothing if determinant vanished due to nilpotency\n",
    "        if so in self.orbitals: #if orbital is already occupied, determinant vanishes\n",
    "            self.orbitals.clear() \n",
    "            self.sign = 0 #!!! set sign to zero here, to distinguish true zero with Fermi vacuum |>\n",
    "        else:\n",
    "            if self.nelectrons() == 0: #if there are no occupied orbitals so far, just insert \n",
    "                self.orbitals.add(so)\n",
    "            else:\n",
    "                #iterate to position where new orbital would be added \n",
    "                it = iter(self.orbitals)\n",
    "                element = next(it)\n",
    "                count = 0\n",
    "                while element < so:\n",
    "                    count = count + 1\n",
    "                    try:\n",
    "                        element = next(it)\n",
    "                    except StopIteration:\n",
    "                        break\n",
    "                #spin orbital would be added after 'count' indices -> multiply sign by (-1)^count\n",
    "                if (count % 2 == 1):\n",
    "                    self.sign = -1*self.sign\n",
    "                self.orbitals.add(so)\n",
    "    \n",
    "    def annihilate(self, so:SpinOrbitalIndex):\n",
    "        if self.sign == 0:\n",
    "            return #do nothing if determinant vanished due to nilpotency\n",
    "        if so not in self.orbitals: #if orbital is not occupied, determinant vanishes \n",
    "            self.orbitals.clear()\n",
    "            self.sign = 0 #!!! set sign to zero here, to distinguish true zero with Fermi vacuum |>\n",
    "        else:\n",
    "            ann_idx = self.orbitals.index(so) #get index of annihilated orbital\n",
    "            #orbital is annihilated arfter 'ann_idx' indices -> multiply sign by (-1)^ann_idx\n",
    "            if (ann_idx % 2 == 1):\n",
    "                self.sign = -1*self.sign\n",
    "            self.orbitals.remove(so)\n",
    "\n",
    "\n",
    "    def nelectrons(self) -> int:\n",
    "        return len(self.orbitals)\n",
    "\n",
    "    def __iter__(self):\n",
    "        self.iter = iter(self.orbitals)\n",
    "        return self.iter\n",
    "    def __next__(self):\n",
    "        return self.iter.__next__()\n",
    "\n",
    "    def __str__(self):\n",
    "        output = \"\"\n",
    "        if self.sign == -1:\n",
    "            output = output + \"-\"\n",
    "        elif self.sign == 0:\n",
    "            output = output + \"0\"\n",
    "        else:\n",
    "            output = output + \"+\"\n",
    "        if (self.nelectrons() == 0):\n",
    "            return output + \"|>\"\n",
    "        it = iter(self.orbitals)\n",
    "        element = next(it)\n",
    "        output = output + \"|\" + str(element)\n",
    "        while True:\n",
    "            try:\n",
    "                element = next(it)\n",
    "                output = output + \", \" + str(element)\n",
    "            except StopIteration:\n",
    "                break\n",
    "        output = output + \">\"\n",
    "        return output\n",
    "    \n",
    "#examples \n",
    "det1 = SlaterDeterminant([p_up, p_down], +1)\n",
    "det2 = SlaterDeterminant.from_str(\"0+0-\", -1)\n",
    "det3 = SlaterDeterminant.from_str(\"0-0+\", +1) #beware: creation in reversed order! This possibly changes sign\n",
    "print(\"Created Slater determinants \" + str(det1) + \" , \" + str(det2) + \" , and \" + str(det3))"
   ]
  },
  {
   "cell_type": "markdown",
   "metadata": {},
   "source": [
    "\n",
    "### `ConfigurationStateFunction`\n",
    "\n",
    "In general, single Slater determinants are not eigenfunctions of the total spin operator $\\hat{S}^2$ (there are certain exceptions as, e.g., closed-shell singlet determinants). Linear combinations of Slater determinants, which are proper spin eigenfunctions, are called configuration state functions (CSFs). Since $\\left[\\hat{H}, \\hat{S}^2\\right] = 0$, the many-particle basis can be further reduced to house only functions with the correct spin symmetry. The following listing provides a comfortable data structure to represent such linear combinations using `dict`s. \n"
   ]
  },
  {
   "cell_type": "code",
   "execution_count": 5,
   "metadata": {},
   "outputs": [
    {
     "name": "stdout",
     "output_type": "stream",
     "text": [
      "Created CSFs 1.0*+|0+, 0-> and 0.7071067811865475*+|0+, 1-> + -0.7071067811865475*+|0-, 1+>\n"
     ]
    }
   ],
   "source": [
    "from typing import Dict\n",
    "import math\n",
    "\n",
    "class ConfigurationStateFunction(Dict[SlaterDeterminant, float]):\n",
    "    '''A single configuration state function (linear combination of Slater Determinants) \n",
    "    -> inherting from dict mapping SlaterDeterminant -> prefactor (float)'''\n",
    "    \n",
    "    @classmethod\n",
    "    def from_str(cls, stringmap:Dict[str, float]):\n",
    "        detmap = {}\n",
    "        for i in stringmap.items():\n",
    "            detmap[SlaterDeterminant.from_str(i[0])] = i[1]\n",
    "        return cls(detmap)\n",
    "    \n",
    "    def __str__(self):\n",
    "        output = \"\"\n",
    "        it = iter(self.items())\n",
    "        keyvalue = next(it)\n",
    "        output += str(keyvalue[1]) + \"*\" + str(keyvalue[0])\n",
    "        while True:\n",
    "            try:\n",
    "                keyvalue = next(it)\n",
    "                output += \" + \" +  str(keyvalue[1]) + \"*\" + str(keyvalue[0])\n",
    "            except StopIteration:\n",
    "                break\n",
    "        return output\n",
    "    \n",
    "#examples \n",
    "csf1 = ConfigurationStateFunction({det1 : 1.0})\n",
    "csf2 = ConfigurationStateFunction.from_str({\"0+1-\" : +1.0/math.sqrt(2.0), \"0-1+\" : -1.0/math.sqrt(2.0)})\n",
    "print (\"Created CSFs \" + str(csf1) + \" and \" + str(csf2))"
   ]
  },
  {
   "cell_type": "markdown",
   "metadata": {},
   "source": [
    "\n",
    "## (2) Slater-Condon rules\n",
    "\n",
    "Arbitrary integrals $\\langle\\Psi|\\hat{H}|\\Phi\\rangle$ of Slater determinants $|\\Psi\\rangle$ and $|\\Phi\\rangle$ break down to sums of one- and two-particle MO integrals according to the Slater-Condon rules (see, e.g., https://en.wikipedia.org/wiki/Slater%E2%80%93Condon_rules ). The following listing provides function `slater_condon_rules(bra, ket, moints1, moints2)`, which calculates such integrals for `SlaterDeterminant`s `bra` and `ket` and the 1- and 2-particle MO integrals `moints1` and `moints2`. An additional function `slater_condon_rules_csf` is provided for direct use with `ConfigurationStateFunction` objects.\n",
    "\n",
    "By default, `pyscf` stores the 2-particle MO integrals in `numpy` arrays using 4-fold index symmetries realized by lower triangular matrices in column major order. To comfortably access these using the full four index notation, the function `access_4s_pyscf_integrals` is provided and used.\n"
   ]
  },
  {
   "cell_type": "code",
   "execution_count": 6,
   "metadata": {},
   "outputs": [],
   "source": [
    "import numpy as np\n",
    "from itertools import tee\n",
    "import copy\n",
    "\n",
    "def access_4s_pyscf_integrals(moints2, i:int, j:int, k:int, l:int) -> np.float64:\n",
    "    '''Comfortable 4 index access to pyscf 2p integrals in mo basis with 4-fold symmetry (chemist notation!!!)'''\n",
    "    #sort value pairs ij and kl \n",
    "    ij = sorted([i,j])\n",
    "    kl = sorted([k,l])\n",
    "    #calculate super indices (lower triangular matrix in column major order!)\n",
    "    idx1 = int((ij[1]+1)*ij[1]/2 + ij[0])\n",
    "    idx2 = int((kl[1]+1)*kl[1]/2 + kl[0])\n",
    "    return moints2[idx1, idx2]\n",
    "\n",
    "def slater_condon_rules(bra:SlaterDeterminant, ket:SlaterDeterminant, moints1, moints2) -> np.float64:\n",
    "    '''Given two Slater determinants 'bra' and 'ket', and the 1 and 2 particle \n",
    "    integrals im MO basis 'moints1' and 'moints2', respectively, calculate <bra|H|ket>''' \n",
    "    result = 0.0\n",
    "\n",
    "    #(1) extract (i) annihilators, (ii) creators, and (iii) common indices for the substitution ket -> bra\n",
    "    annihilators = ket.orbitals.difference(bra.orbitals) \n",
    "    creators = bra.orbitals.difference(ket.orbitals)\n",
    "    common = bra.orbitals.intersection(ket.orbitals)\n",
    "\n",
    "    #check Slater Condon rule case (from substitution order)\n",
    "    if len(annihilators) == 0:\n",
    "        #Case 1: <Psi|H|Psi> = sum_(i in Psi) <i|h(1)|i> + sum_(i<j in Psi) <ij|g(1,2)|ij-ji>\n",
    "        it1 = iter(bra)\n",
    "        while True:\n",
    "            try:\n",
    "                so_i = next(it1) #SpinOrbitalIndex used for spin integration later\n",
    "                i = so_i.mo_idx.idx \n",
    "                it1,it2 = tee(it1) #copy iterator using tee\n",
    "                #<i|i> (spin integration is always 1) \n",
    "                result += moints1[i,i] \n",
    "                while True:\n",
    "                    try:\n",
    "                        so_j = next(it2)\n",
    "                        j = so_j.mo_idx.idx\n",
    "                        #<ij|ij> = [ii|jj] (spin integral is always 1)\n",
    "                        result += access_4s_pyscf_integrals(moints2, i,i,j,j) \n",
    "                        #<ij|ji> = [ij|ji]\n",
    "                        result -= so_i.integrate_spin(so_j) * access_4s_pyscf_integrals(moints2, i,j,j,i)\n",
    "                    except StopIteration:\n",
    "                        break\n",
    "            except StopIteration:\n",
    "                break\n",
    "    elif len(annihilators) == 1:\n",
    "        #Case 2: <Psi|H|Psi_I^A> = <I|h(1)|A> + sum_(i in Psi) <Ii|g(1,2)|Ai-iA>\n",
    "        so_I = annihilators[0]\n",
    "        I = so_I.mo_idx.idx\n",
    "        so_A = creators[0]\n",
    "        A = so_A.mo_idx.idx\n",
    "        #<I|A>\n",
    "        result += so_I.integrate_spin(so_A) * moints1[I,A]\n",
    "        for so_i in bra.orbitals: \n",
    "            i = so_i.mo_idx.idx \n",
    "            #<Ii|Ai> = [IA|ii]\n",
    "            result += so_I.integrate_spin(so_A) * access_4s_pyscf_integrals(moints2, I,A,i,i)\n",
    "            #<Ii|iA> = [Ii|iA]\n",
    "            result -= so_I.integrate_spin(so_i) * so_i.integrate_spin(so_A) * access_4s_pyscf_integrals(moints2, I,i,i,A)\n",
    "    elif len(annihilators) == 2:\n",
    "        #Case 3: <Psi|H|Psi_IJ^AB> = <IJ|g(1,2)|AB - BA>\n",
    "        so_I = annihilators[0]\n",
    "        I = so_I.mo_idx.idx \n",
    "        so_J = annihilators[1]\n",
    "        J = so_J.mo_idx.idx\n",
    "        so_A = creators[0]\n",
    "        A = so_A.mo_idx.idx \n",
    "        so_B = creators[1] \n",
    "        B = so_B.mo_idx.idx \n",
    "        #<IJ|AB> = [IA|JB]\n",
    "        result += so_I.integrate_spin(so_A) * so_J.integrate_spin(so_B) * access_4s_pyscf_integrals(moints2, I,A,J,B)\n",
    "        #<IJ|BA> = [IB|JA]\n",
    "        result -= so_I.integrate_spin(so_B) * so_J.integrate_spin(so_A) * access_4s_pyscf_integrals(moints2, I,B,J,A)\n",
    "\n",
    "\n",
    "    #before returning the result, take care of determinant signs and signs introduced by substitution \n",
    "    temp = copy.deepcopy(ket) \n",
    "    for i in annihilators:\n",
    "        temp.annihilate(i)\n",
    "    for i in creators[::-1]:\n",
    "        temp.create(i)\n",
    "    return bra.sign * temp.sign * result\n",
    "\n",
    "\n",
    "#overhead for CSFs -> calls determinant routine 'slater_condon_rules' for all combinations\n",
    "def slater_condon_rules_csf(bra:ConfigurationStateFunction, \n",
    "                            ket:ConfigurationStateFunction, \n",
    "                            moints1, \n",
    "                            moints2) -> np.float64:\n",
    "    result = 0.0\n",
    "    for i in bra.items():\n",
    "        for j in ket.items():\n",
    "            result += i[1]*j[1]*slater_condon_rules(i[0], j[0], moints1, moints2)\n",
    "    return result\n",
    "    "
   ]
  },
  {
   "cell_type": "markdown",
   "metadata": {},
   "source": [
    "\n",
    "## (3) Example: LiH in STO-3G\n",
    "\n",
    "In the following listings, the methods and data structures implemented in sections (1) and (2) are put to use to generate 2 qubit Pauli strings for the LiH molecule in the STO-3G basis.\n",
    "\n",
    "### (3.1) Define Molecule and do Hartree-Fock\n",
    "\n",
    "First, to identify relevant many-particle functions to represent the Hamiltonian, `pyscf` is used to perform a restricted Hartree-Fock calculation using the molecule's spatial symmetry (point group $C_{\\infty v}$). The member function `analyze()` is helpful to print MO information such as occupation, orbital energies and irreducible representations."
   ]
  },
  {
   "cell_type": "code",
   "execution_count": 12,
   "metadata": {},
   "outputs": [
    {
     "name": "stdout",
     "output_type": "stream",
     "text": [
      "converged SCF energy = -7.8620905820129\n",
      "TODO: total wave-function symmetry for Coov\n",
      "occupancy for each irrep:     A1  E1x  E1y\n",
      "                               2    0    0\n",
      "**** MO energy ****\n",
      "MO #1 (A1 #1), energy= -2.34859675449772 occ= 2\n",
      "MO #2 (A1 #2), energy= -0.285881161968396 occ= 2\n",
      "MO #3 (A1 #3), energy= 0.0782801227497004 occ= 0\n",
      "MO #4 (E1x #1), energy= 0.163937027517132 occ= 0\n",
      "MO #5 (E1y #1), energy= 0.163937027517132 occ= 0\n",
      "MO #6 (A1 #4), energy= 0.549706240344264 occ= 0\n",
      " ** Mulliken atomic charges  **\n",
      "charge of  0Li =      0.32747\n",
      "charge of  1H =     -0.32747\n",
      "Dipole moment(X, Y, Z, Debye):  0.00000,  0.00000, -4.85697\n"
     ]
    },
    {
     "data": {
      "text/plain": [
       "((array([1.99940870722514, 0.50862244782932, 0.              ,\n",
       "         0.              , 0.16450117179157, 1.32746767315397]),\n",
       "  array([ 0.32746767315397, -0.32746767315397])),\n",
       " array([ 0.              ,  0.              , -4.85696556303459]))"
      ]
     },
     "execution_count": 12,
     "metadata": {},
     "output_type": "execute_result"
    }
   ],
   "source": [
    "from pyscf import gto, scf\n",
    "\n",
    "#(1) define molecule\n",
    "mol = gto.Mole()\n",
    "mol.build(\n",
    "        atom = '''Li 0 0 -1.505; H 0 0 +1.505''',\n",
    "        unit = 'B',\n",
    "        basis = 'sto-3g',\n",
    "        symmetry = 'Coov'\n",
    "        )\n",
    "\n",
    "#(2) do Hartree-Fock calculation and obtain MO integrals  \n",
    "mf = scf.RHF(mol)\n",
    "mf.conv_tol = 1e-14\n",
    "mf.conv_tol_grad = 1e-14\n",
    "mf.max_cycle = 200\n",
    "mf.kernel()\n",
    "\n",
    "#print orbital energies, occupancies and irreps\n",
    "mf.analyze()"
   ]
  },
  {
   "cell_type": "markdown",
   "metadata": {},
   "source": [
    "\n",
    "### (3.2) Define many-particle basis\n",
    "\n",
    "If orbital `MO #1` ($|\\varphi_1\\rangle$) is frozen, i.e., kept occupied by 2 electrons, and orbitals `MO #4`  ($|\\varphi_4\\rangle$) and `MO #6` ($|\\varphi_6\\rangle$) are allowed to be occupied by the particles in orbital `MO #2` ($|\\varphi_2\\rangle$), the five CSFs \n",
    "$$\n",
    "\\left\\{\n",
    "|\\overline{\\varphi_1}\\underline{\\varphi_1}\\overline{\\varphi_2}\\underline{\\varphi_2}\\rangle, \n",
    "\\tfrac{1}{\\sqrt{2}}\\left(|\\overline{\\varphi_1}\\underline{\\varphi_1}\\overline{\\varphi_2}\\underline{\\varphi_4}\\rangle - |\\overline{\\varphi_1}\\underline{\\varphi_1}\\underline{\\varphi_2}\\overline{\\varphi_4}\\rangle\\right), \n",
    "|\\overline{\\varphi_1}\\underline{\\varphi_1}\\overline{\\varphi_4}\\underline{\\varphi_4}\\rangle, \n",
    "\\tfrac{1}{\\sqrt{2}}\\left(|\\overline{\\varphi_1}\\underline{\\varphi_1}\\overline{\\varphi_2}\\underline{\\varphi_6}\\rangle - |\\overline{\\varphi_1}\\underline{\\varphi_1}\\underline{\\varphi_2}\\overline{\\varphi_6}\\rangle\\right), \n",
    "|\\overline{\\varphi_1}\\underline{\\varphi_1}\\overline{\\varphi_6}\\underline{\\varphi_6}\\rangle \n",
    "\\right\\}\n",
    "$$\n",
    "are possible. Here, the overlined (underlined) MOs shall denote alpha (beta) spin orbital variants. However, since $|\\varphi_4\\rangle$ transforms as `E1x`, the second CSF from the left can not contribute to the `A1` ground state wave function. The remaining four CSFs can therefore be encoded to 2 qubits using the 4 dimensional matrix representation of $\\hat{H}$. \n",
    "\n",
    "In the following listing, the many-particle basis is constructed using `ConfigurationStateFunction` objects. Beware that orbital indices now start counting from index $0$.\n"
   ]
  },
  {
   "cell_type": "code",
   "execution_count": 8,
   "metadata": {},
   "outputs": [
    {
     "name": "stdout",
     "output_type": "stream",
     "text": [
      "Many-particle basis:\n",
      "1.0*+|0+, 0-, 1+, 1->\n",
      "0.7071067811865475*+|0+, 0-, 1+, 5-> + -0.7071067811865475*+|0+, 0-, 1-, 5+>\n",
      "1.0*+|0+, 0-, 3+, 3->\n",
      "1.0*+|0+, 0-, 5+, 5->\n"
     ]
    }
   ],
   "source": [
    "mpb = [ConfigurationStateFunction.from_str({\"0+0-1+1-\" : 1.0}),\n",
    "       ConfigurationStateFunction.from_str({\"0+0-1+5-\" : 1.0/math.sqrt(2.0), \n",
    "                                            \"0+0-1-5+\" : -1.0/math.sqrt(2.0)}),\n",
    "       ConfigurationStateFunction.from_str({\"0+0-3+3-\" : 1.0}),\n",
    "       ConfigurationStateFunction.from_str({\"0+0-5+5-\" : 1.0})]\n",
    "\n",
    "print(\"Many-particle basis:\")\n",
    "for i in mpb:\n",
    "    print(i)"
   ]
  },
  {
   "cell_type": "markdown",
   "metadata": {},
   "source": [
    "\n",
    "### (3.3) AO -> MO transformation\n",
    "\n",
    "To calculate all the Hamiltonian matrix elements for the just created many-particle basis, the 1- and 2-particle MO integrals are required. These can be obtained from `pyscf` using the `hf` and `ao2mo` modules. \n"
   ]
  },
  {
   "cell_type": "code",
   "execution_count": 9,
   "metadata": {},
   "outputs": [],
   "source": [
    "from pyscf import ao2mo\n",
    "from functools import reduce\n",
    "\n",
    "#do ao -> mo transformation \n",
    "h1ao = scf.hf.get_hcore(mol) #get 1p AO integrals \n",
    "h1mo = reduce(np.dot, (mf.mo_coeff.T, h1ao, mf.mo_coeff)) #transform to MO basis \n",
    "h2mo = ao2mo.full(mol, mf.mo_coeff) #get 2p MO integrals"
   ]
  },
  {
   "cell_type": "markdown",
   "metadata": {},
   "source": [
    "\n",
    "### (3.4) Hamiltonian matrix representation\n",
    "\n",
    "It is now straightforward to compute all matrix elements using the `slater_condon_rules_csf` function. Please note that the two zero elements in the Hamiltonian matrix representation arise due to Brillouin's theorem (see, e.g.,  https://en.wikipedia.org/wiki/Brillouin%27s_theorem )"
   ]
  },
  {
   "cell_type": "code",
   "execution_count": 10,
   "metadata": {},
   "outputs": [
    {
     "name": "stdout",
     "output_type": "stream",
     "text": [
      "Hamiltonian matrix representation:\n",
      "[[-8.85876832287669  0.                0.02346209013788  0.12384892974705]\n",
      " [ 0.               -8.2296103302711  -0.02768300702936  0.01061285809508]\n",
      " [ 0.02346209013788 -0.02768300702936 -8.19355577646358  0.01970951819219]\n",
      " [ 0.12384892974705  0.01061285809508  0.01970951819219 -7.814564055647  ]]\n"
     ]
    }
   ],
   "source": [
    " H = np.ndarray([len(mpb), len(mpb)], dtype=np.float64)\n",
    "for i in range(0, len(mpb), 1):\n",
    "    for j in range(i, len(mpb), 1):\n",
    "        H[i,j] = slater_condon_rules_csf(mpb[i], mpb[j], h1mo, h2mo)\n",
    "        H[j,i] = H[i,j] #use hermiticity\n",
    "np.set_printoptions(precision=14, suppress=True)\n",
    "print(\"Hamiltonian matrix representation:\")\n",
    "print(H)"
   ]
  },
  {
   "cell_type": "markdown",
   "metadata": {},
   "source": [
    "\n",
    "### (3.5) Decomposition into Pauli string\n",
    "\n",
    "Finally, the matrix representation of $\\hat{H}$ can be decomposed into the desired Pauli string. In the following listing this is done using `pennylane`. Additionally, the string is formatted to be compatible with `qbos`"
   ]
  },
  {
   "cell_type": "code",
   "execution_count": 11,
   "metadata": {},
   "outputs": [
    {
     "name": "stdout",
     "output_type": "stream",
     "text": [
      "Pauli string (compatible with qbOS):\n",
      "-8.27412462131459 + 0.009854759096095117 X1+ -0.25203742835554155 Z1+ 0.017037474116481183 X0+ 0.048082961358845655 X0 X1+ 0.006424616021401921 X0 Z1+ -0.07576596838820597 Y0 Y1+ -0.2700647052593024 Z0+ -0.00985475909609449 Z0 X1+ -0.06254156794725341 Z0 Z1\n"
     ]
    }
   ],
   "source": [
    "import pennylane as qml\n",
    "\n",
    "#do all replacements from dictionary\n",
    "def replace_all(text:str, dic)->str:\n",
    "    for before, after in dic.items():\n",
    "        text = text.replace(before, after)\n",
    "    return text\n",
    "\n",
    "#convert hamiltonian to Pauli strings using pennylane\n",
    "def pauli_decomposition(H) ->str:\n",
    "    coeffs, obs_list = qml.utils.decompose_hamiltonian(H) #call decomposition routine \n",
    "    hamiltonian = qml.Hamiltonian(coeffs, obs_list, simplify = True)\n",
    "    pauli_string = str(hamiltonian)\n",
    "    #make string compatible to qbos \n",
    "    replacements = {\"\\n\" : \"\",\n",
    "                    \"[\" : \"\",\n",
    "                    \"]\" : \"\",\n",
    "                    \"(\" : \"\",\n",
    "                    \")\" : \"\",\n",
    "                    \"I0\" : \"\"}\n",
    "    pauli_string = replace_all(pauli_string, replacements)\n",
    "    return pauli_string\n",
    "\n",
    "pauli_string = pauli_decomposition(H)\n",
    "print(\"Pauli string (compatible with qbOS):\")\n",
    "print(pauli_string)"
   ]
  }
 ],
 "metadata": {
  "kernelspec": {
   "display_name": "Python 3",
   "language": "python",
   "name": "python3"
  },
  "language_info": {
   "codemirror_mode": {
    "name": "ipython",
    "version": 3
   },
   "file_extension": ".py",
   "mimetype": "text/x-python",
   "name": "python",
   "nbconvert_exporter": "python",
   "pygments_lexer": "ipython3",
   "version": "3.6.9"
  }
 },
 "nbformat": 4,
 "nbformat_minor": 4
}
