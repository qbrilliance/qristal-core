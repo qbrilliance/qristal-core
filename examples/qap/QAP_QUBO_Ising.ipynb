{
 "cells": [
  {
   "cell_type": "markdown",
   "id": "612a2d68",
   "metadata": {},
   "source": [
    "QAP-Ising transformation is based on this paper: https://arxiv.org/abs/1811.11538"
   ]
  },
  {
   "cell_type": "markdown",
   "id": "fe97312e",
   "metadata": {},
   "source": [
    "### Generate QAP Hamiltonian\n",
    "\n",
    "Note: this notebook generates Ising-type Hamiltonian with quadratic terms only for a given QAP. "
   ]
  },
  {
   "cell_type": "code",
   "execution_count": 1,
   "id": "d42be3aa",
   "metadata": {},
   "outputs": [],
   "source": [
    "# import all necessary libraries\n",
    "\n",
    "import numpy as np\n",
    "from sympy import *\n",
    "import re"
   ]
  },
  {
   "cell_type": "code",
   "execution_count": 2,
   "id": "44fa25da",
   "metadata": {},
   "outputs": [],
   "source": [
    "# define F (facility matrix) and D (distance matrix)\n",
    "F = np.array([[0, 5, 2],\n",
    "              [5, 0, 3],\n",
    "              [2, 3, 0]])\n",
    "\n",
    "D = np.array([[0, 8, 15],\n",
    "              [8, 0, 13],\n",
    "              [15, 13, 0]])\n",
    "\n",
    "matrix_size = 3\n",
    "\n",
    "# penalty coefficient\n",
    "P = 200"
   ]
  },
  {
   "cell_type": "code",
   "execution_count": 3,
   "id": "7fcf1e1d",
   "metadata": {},
   "outputs": [],
   "source": [
    "# generate z_dictionary for QAP\n",
    "\n",
    "number_of_variables = matrix_size*matrix_size\n",
    "variable_indices = np.arange(0, number_of_variables)\n",
    "\n",
    "z_dictionary = {}\n",
    "index = 0\n",
    "\n",
    "for i in range(matrix_size):\n",
    "    for j in range(matrix_size):\n",
    "        z_dictionary[str(i)+str(j)] = \"Z\" + str(variable_indices[index])\n",
    "        index = index + 1\n",
    "\n",
    "#print(z_dictionary)"
   ]
  },
  {
   "cell_type": "code",
   "execution_count": 4,
   "id": "f8cefd6a",
   "metadata": {},
   "outputs": [],
   "source": [
    "# generate dictionary with ZZ-pairs and coefficients\n",
    "\n",
    "quadratic_problem_dict = {}\n",
    "counter = 0\n",
    "\n",
    "for i in range(matrix_size):\n",
    "    for j in range(matrix_size):\n",
    "        for k in range(matrix_size):\n",
    "            for l in range(matrix_size):\n",
    "                \n",
    "                if F[i, j]*D[k, l] != 0:\n",
    "                    \n",
    "                    quadratic_problem_dict[z_dictionary[str(i)+str(k)] + \"*\" + z_dictionary[str(j)+str(l)]] = F[i, j]*D[k, l]\n",
    "\n",
    "#print(quadratic_problem_dict)"
   ]
  },
  {
   "cell_type": "code",
   "execution_count": 5,
   "id": "399ddb87",
   "metadata": {},
   "outputs": [],
   "source": [
    "# simplify the indices taking symmetry into account\n",
    "\n",
    "i=0\n",
    "quadratic_problem_dict_keys = list(quadratic_problem_dict.keys())\n",
    "quadratic_problem_parsed_dict = {}\n",
    "\n",
    "while i < len(quadratic_problem_dict_keys):\n",
    "    \n",
    "    #print(quadratic_problem_dict_keys)\n",
    "    \n",
    "    key = quadratic_problem_dict_keys[i]\n",
    "    key1 = str(key[3:5] + \"*\" + key[0:2])\n",
    "    \n",
    "    if key1 in quadratic_problem_dict:\n",
    "        quadratic_problem_parsed_dict[key] = quadratic_problem_dict[key] + quadratic_problem_dict[key1]\n",
    "        quadratic_problem_dict_keys.remove(key1)\n",
    "        \n",
    "    i = i+1 \n",
    "    \n",
    "#print(quadratic_problem_parsed_dict)"
   ]
  },
  {
   "cell_type": "code",
   "execution_count": 6,
   "id": "03b3366b",
   "metadata": {},
   "outputs": [
    {
     "name": "stdout",
     "output_type": "stream",
     "text": [
      " + 80*Z0*Z4 + 150*Z0*Z5 + 80*Z1*Z3 + 130*Z1*Z5 + 150*Z2*Z3 + 130*Z2*Z4 + 32*Z0*Z7 + 60*Z0*Z8 + 32*Z1*Z6 + 52*Z1*Z8 + 60*Z2*Z6 + 52*Z2*Z7 + 48*Z3*Z7 + 90*Z3*Z8 + 48*Z4*Z6 + 78*Z4*Z8 + 90*Z5*Z6 + 78*Z5*Z7\n"
     ]
    }
   ],
   "source": [
    "### generate problem Hamiltonian\n",
    "\n",
    "problem_ham = \"\"\n",
    "\n",
    "for key in quadratic_problem_parsed_dict:\n",
    "    \n",
    "    problem_ham = problem_ham + \" + \" + str(quadratic_problem_parsed_dict[key]) + \"*\" + str(key)\n",
    "    \n",
    "print(problem_ham)"
   ]
  },
  {
   "cell_type": "code",
   "execution_count": 7,
   "id": "291e13d7",
   "metadata": {},
   "outputs": [
    {
     "name": "stdout",
     "output_type": "stream",
     "text": [
      "+ 200*(Z0+Z3+Z6-1)**2 + 200*(Z1+Z4+Z7-1)**2 + 200*(Z2+Z5+Z8-1)**2 + 200*(Z0+Z1+Z2-1)**2 + 200*(Z3+Z4+Z5-1)**2 + 200*(Z6+Z7+Z8-1)**2 \n"
     ]
    }
   ],
   "source": [
    "### generate penalty part (sum over any colum or row = 1)\n",
    "\n",
    "array_of_indices = np.zeros((matrix_size, matrix_size))\n",
    "index = 0\n",
    "\n",
    "for i in range(matrix_size):\n",
    "    for j in range(matrix_size):\n",
    "        array_of_indices[i, j] = variable_indices[index]\n",
    "        index = index + 1\n",
    "    \n",
    "#print(array_of_indices)\n",
    "\n",
    "penalty = \"\"\n",
    "\n",
    "# penalties over colums\n",
    "for i in range(matrix_size):\n",
    "    penalty = penalty + \"+ \" + str(P) + \"*(Z\" + str( int(array_of_indices[0, i])) + \"+Z\" + str( int(array_of_indices[1, i])) + \"+Z\" + str( int(array_of_indices[2, i])) + \"-1)**2 \"\n",
    "\n",
    "    \n",
    "# penalties over rows\n",
    "for i in range(matrix_size):\n",
    "    penalty = penalty + \"+ \" + str(P) + \"*(Z\" + str( int(array_of_indices[i, 0])) + \"+Z\" + str( int(array_of_indices[i, 1])) + \"+Z\" + str( int(array_of_indices[i, 2])) + \"-1)**2 \"\n",
    "\n",
    "print(penalty)\n",
    "    "
   ]
  },
  {
   "cell_type": "code",
   "execution_count": 8,
   "id": "486e86ee",
   "metadata": {},
   "outputs": [
    {
     "name": "stdout",
     "output_type": "stream",
     "text": [
      "400*Z0**2 + 400*Z0*Z1 + 400*Z0*Z2 + 400*Z0*Z3 + 80*Z0*Z4 + 150*Z0*Z5 + 400*Z0*Z6 + 32*Z0*Z7 + 60*Z0*Z8 - 800*Z0 + 400*Z1**2 + 400*Z1*Z2 + 80*Z1*Z3 + 400*Z1*Z4 + 130*Z1*Z5 + 32*Z1*Z6 + 400*Z1*Z7 + 52*Z1*Z8 - 800*Z1 + 400*Z2**2 + 150*Z2*Z3 + 130*Z2*Z4 + 400*Z2*Z5 + 60*Z2*Z6 + 52*Z2*Z7 + 400*Z2*Z8 - 800*Z2 + 400*Z3**2 + 400*Z3*Z4 + 400*Z3*Z5 + 400*Z3*Z6 + 48*Z3*Z7 + 90*Z3*Z8 - 800*Z3 + 400*Z4**2 + 400*Z4*Z5 + 48*Z4*Z6 + 400*Z4*Z7 + 78*Z4*Z8 - 800*Z4 + 400*Z5**2 + 90*Z5*Z6 + 78*Z5*Z7 + 400*Z5*Z8 - 800*Z5 + 400*Z6**2 + 400*Z6*Z7 + 400*Z6*Z8 - 800*Z6 + 400*Z7**2 + 400*Z7*Z8 - 800*Z7 + 400*Z8**2 - 800*Z8 + 1200\n"
     ]
    }
   ],
   "source": [
    "total_ham = expand(problem_ham + penalty)\n",
    "print(str(total_ham))"
   ]
  },
  {
   "cell_type": "markdown",
   "id": "3d1042a1",
   "metadata": {},
   "source": [
    "total_ham now contains linear terms. If we want to construct QUBO matrix we should have only quadratic terms. Remember that x takes 0 or 1. So we can use the equation x=x2=xx. https://blueqat.readthedocs.io/en/stable/ising.html \n",
    "\n",
    "Basically, this transformation will maintain quadratic terms and change the total energy shift after removal of identity terms."
   ]
  },
  {
   "cell_type": "code",
   "execution_count": 9,
   "id": "59f7d1b5",
   "metadata": {},
   "outputs": [
    {
     "name": "stdout",
     "output_type": "stream",
     "text": [
      " 400 + 400*Z0*Z1 + 400*Z0*Z2 + 400*Z0*Z3 + 80*Z0*Z4 + 150*Z0*Z5 + 400*Z0*Z6 + 32*Z0*Z7 + 60*Z0*Z8 - 800 + 400 + 400*Z1*Z2 + 80*Z1*Z3 + 400*Z1*Z4 + 130*Z1*Z5 + 32*Z1*Z6 + 400*Z1*Z7 + 52*Z1*Z8 - 800 + 400 + 150*Z2*Z3 + 130*Z2*Z4 + 400*Z2*Z5 + 60*Z2*Z6 + 52*Z2*Z7 + 400*Z2*Z8 - 800 + 400 + 400*Z3*Z4 + 400*Z3*Z5 + 400*Z3*Z6 + 48*Z3*Z7 + 90*Z3*Z8 - 800 + 400 + 400*Z4*Z5 + 48*Z4*Z6 + 400*Z4*Z7 + 78*Z4*Z8 - 800 + 400 + 90*Z5*Z6 + 78*Z5*Z7 + 400*Z5*Z8 - 800 + 400 + 400*Z6*Z7 + 400*Z6*Z8 - 800 + 400 + 400*Z7*Z8 - 800 + 400 - 800 + 1200\n"
     ]
    }
   ],
   "source": [
    "# transform linear terms to identity terms and remove them (total energy shift)\n",
    "\n",
    "total_ham_string = str(total_ham)\n",
    "\n",
    "splitted_total_ham = total_ham_string.split(\" \")\n",
    "\n",
    "for j in range(len(splitted_total_ham)):\n",
    "    \n",
    "    Z_terms = [m.start() for m in re.finditer('Z', splitted_total_ham[j])]\n",
    "    \n",
    "    if len(Z_terms)==1:\n",
    "        \n",
    "        for index in variable_indices:  \n",
    "\n",
    "            marker1 = splitted_total_ham[j].find(\"*Z\"+ str(index)) # linear term\n",
    "            if marker1 != -1:\n",
    "                splitted_total_ham[j] = splitted_total_ham[j][0 : marker1 : ]\n",
    "                    \n",
    "            marker2 = splitted_total_ham[j].find(\"*Z\"+ str(index)+\"**2\") # quadratic term\n",
    "            if marker2 != -1:\n",
    "                splitted_total_ham[j] = splitted_total_ham[j][0 : marker2 : ]\n",
    "\n",
    "        #print(splitted_total_ham[j])\n",
    "        \n",
    "#print(splitted_total_ham)\n",
    "        \n",
    "# assemble the eleents back to Hamiltonian string\n",
    "\n",
    "total_ham_string = \"\"\n",
    "\n",
    "for k in range(len(splitted_total_ham)):\n",
    "    \n",
    "    total_ham_string = total_ham_string + \" \" + splitted_total_ham[k]\n",
    "                    \n",
    "print(total_ham_string)      "
   ]
  },
  {
   "cell_type": "code",
   "execution_count": 10,
   "id": "88223248",
   "metadata": {},
   "outputs": [],
   "source": [
    "# # remove identity terms\n",
    "\n",
    "# #total_ham_string = str(total_ham)\n",
    "\n",
    "# marker = 0\n",
    "\n",
    "# while marker!=-1:\n",
    "\n",
    "#     marker = total_ham_string.find(\"**2\")\n",
    "    \n",
    "#     if marker != -1:\n",
    "#         if len(total_ham_string) > marker:\n",
    "#             total_ham_string = total_ham_string[0 : marker - 3 : ] + total_ham_string[marker + 3 : :]\n",
    "        \n",
    "# print(total_ham_string)        "
   ]
  },
  {
   "cell_type": "code",
   "execution_count": 11,
   "id": "a0da7103",
   "metadata": {},
   "outputs": [],
   "source": [
    "# simplify\n",
    "total_ham = expand(total_ham_string)"
   ]
  },
  {
   "cell_type": "code",
   "execution_count": 12,
   "id": "f4e6b3ac",
   "metadata": {},
   "outputs": [
    {
     "name": "stdout",
     "output_type": "stream",
     "text": [
      "400 Z0 Z1 + 400 Z0 Z2 + 400 Z0 Z3 + 80 Z0 Z4 + 150 Z0 Z5 + 400 Z0 Z6 + 32 Z0 Z7 + 60 Z0 Z8 + 400 Z1 Z2 + 80 Z1 Z3 + 400 Z1 Z4 + 130 Z1 Z5 + 32 Z1 Z6 + 400 Z1 Z7 + 52 Z1 Z8 + 150 Z2 Z3 + 130 Z2 Z4 + 400 Z2 Z5 + 60 Z2 Z6 + 52 Z2 Z7 + 400 Z2 Z8 + 400 Z3 Z4 + 400 Z3 Z5 + 400 Z3 Z6 + 48 Z3 Z7 + 90 Z3 Z8 + 400 Z4 Z5 + 48 Z4 Z6 + 400 Z4 Z7 + 78 Z4 Z8 + 90 Z5 Z6 + 78 Z5 Z7 + 400 Z5 Z8 + 400 Z6 Z7 + 400 Z6 Z8 + 400 Z7 Z8 - 2400\n"
     ]
    }
   ],
   "source": [
    "# prepare for qbOS\n",
    "total_ham_string = str(total_ham).replace(\"*\", \" \")\n",
    "print(total_ham_string)"
   ]
  },
  {
   "cell_type": "markdown",
   "id": "0e364fcc",
   "metadata": {},
   "source": [
    "Note: The total_ham_string contains not only the quadratic, but also linear terms"
   ]
  },
  {
   "cell_type": "markdown",
   "id": "5d3b37b7",
   "metadata": {},
   "source": [
    "### Run QaoaSimple"
   ]
  },
  {
   "cell_type": "markdown",
   "id": "f0141a31",
   "metadata": {},
   "source": [
    "Note: To use the extended set of parameters one should count the number of Hamiltonian terms"
   ]
  },
  {
   "cell_type": "code",
   "execution_count": 13,
   "id": "e58c4237",
   "metadata": {},
   "outputs": [
    {
     "name": "stdout",
     "output_type": "stream",
     "text": [
      "cost -2935.984375\n",
      "eigenstate 011000010\n"
     ]
    }
   ],
   "source": [
    "import qbos_op\n",
    "qa = qbos_op.QaoaSimple()\n",
    "qa.qn = number_of_variables\n",
    "qa.ham = total_ham_string\n",
    "\n",
    "qa.acc='qpp'\n",
    "qa.functol[0][0][0]=1e-5\n",
    "qa.maxeval=800\n",
    "qa.qaoa_step=10\n",
    "qa.theta[0][0]=qbos_op.ND()\n",
    "\n",
    "# # use standard set of parameters\n",
    "# qa.extended_param = False\n",
    "# for ii in range(qa.qaoa_step[0][0]*2) :\n",
    "#         qa.theta[0][0][ii] = 0.25\n",
    "        \n",
    "# use extended set of parameters        \n",
    "qa.extended_param = True\n",
    "for ii in range((qa.qn[0][0] + 36)*qa.qaoa_step[0][0]): \n",
    "    qa.theta[0][0][ii] = 0.25\n",
    "\n",
    "qa.run()\n",
    "print('cost ' + str(qa.out_energy[0][0][0]))\n",
    "print('eigenstate ' + str(qa.out_eigenstate[0][0]))"
   ]
  },
  {
   "cell_type": "markdown",
   "id": "b12f2d3c",
   "metadata": {},
   "source": [
    "### Run QaoaRecursive"
   ]
  },
  {
   "cell_type": "code",
   "execution_count": 14,
   "id": "7e6f9fba",
   "metadata": {},
   "outputs": [
    {
     "name": "stdout",
     "output_type": "stream",
     "text": [
      "* Runs recursive QAOA on built-in Nelder-Mead. Uses qpp and QAOA-depth = 5 with extended parameter set. Assert checks the optimum eigenstate.\n",
      "Algorithm runs 5.39 minutes\n"
     ]
    }
   ],
   "source": [
    "print(\"* Runs recursive QAOA on built-in Nelder-Mead. Uses qpp and QAOA-depth = 5 with extended parameter set. Assert checks the optimum eigenstate.\")\n",
    "import time\n",
    "import qbos_op\n",
    "\n",
    "qa = qbos_op.QaoaRecursive()\n",
    "qa.qaoa_step = 3\n",
    "qa.sn = 1024   \n",
    "qa.extended_param = True\n",
    "\n",
    "# specify the number of qubits\n",
    "qa.qn = number_of_variables\n",
    "\n",
    "# specify the threshold number of variables (terms in final Hamiltonian)\n",
    "qa.n_c = 5\n",
    "\n",
    "qa.ham = total_ham_string\n",
    "qa.maxeval = 800\n",
    "\n",
    "tic = time.perf_counter()\n",
    "qa.run()\n",
    "toc = time.perf_counter()\n",
    "\n",
    "minutes = (toc-tic)/60\n",
    "print(f\"Algorithm runs {minutes:0.2f} minutes\")"
   ]
  },
  {
   "cell_type": "code",
   "execution_count": 15,
   "id": "afe6ba77",
   "metadata": {},
   "outputs": [
    {
     "name": "stdout",
     "output_type": "stream",
     "text": [
      "cost -910.77734375\n",
      "eigenstate 100101010\n"
     ]
    }
   ],
   "source": [
    "print('cost ' + str(qa.out_energy[0][0][0]))\n",
    "print('eigenstate ' + str(qa.out_eigenstate[0][0]))"
   ]
  },
  {
   "cell_type": "code",
   "execution_count": null,
   "id": "e56f626d",
   "metadata": {},
   "outputs": [],
   "source": []
  }
 ],
 "metadata": {
  "kernelspec": {
   "display_name": "Python 3 (ipykernel)",
   "language": "python",
   "name": "python3"
  },
  "language_info": {
   "codemirror_mode": {
    "name": "ipython",
    "version": 3
   },
   "file_extension": ".py",
   "mimetype": "text/x-python",
   "name": "python",
   "nbconvert_exporter": "python",
   "pygments_lexer": "ipython3",
   "version": "3.8.10"
  }
 },
 "nbformat": 4,
 "nbformat_minor": 5
}
