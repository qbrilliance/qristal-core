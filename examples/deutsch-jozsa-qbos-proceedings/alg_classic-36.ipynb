{
 "cells": [
  {
   "cell_type": "code",
   "execution_count": 18,
   "metadata": {},
   "outputs": [],
   "source": [
    "import time\n",
    "import numpy as np"
   ]
  },
  {
   "cell_type": "code",
   "execution_count": 19,
   "metadata": {},
   "outputs": [],
   "source": [
    "import sys\n",
    "import statistics as stat"
   ]
  },
  {
   "cell_type": "code",
   "execution_count": 20,
   "metadata": {},
   "outputs": [],
   "source": [
    "min_bits = 11\n",
    "max_bits = 36\n",
    "range_bits = list(range(min_bits,max_bits+1)) "
   ]
  },
  {
   "cell_type": "code",
   "execution_count": 21,
   "metadata": {},
   "outputs": [],
   "source": [
    "def oracle(value):\n",
    "    pass\n",
    "    return 0"
   ]
  },
  {
   "cell_type": "code",
   "execution_count": 22,
   "metadata": {},
   "outputs": [],
   "source": [
    "def check_DJ(nb_bits):\n",
    "    first_value = oracle(0)\n",
    "    max_val = 2**(nb_bits - 1) + 1\n",
    "    for value in range(1,max_val):\n",
    "        if oracle(value) != first_value:\n",
    "            return 1\n",
    "    return 0"
   ]
  },
  {
   "cell_type": "code",
   "execution_count": 6,
   "metadata": {},
   "outputs": [],
   "source": [
    "# Simon can skip this to save time\n",
    "classic_time = [0.0] * len(range_bits)\n",
    "outcomes = [0] * len(range_bits)\n",
    "for index_bits in range(len(range_bits)):\n",
    "    nb_bits = range_bits[index_bits]\n",
    "    time_1 = time.time()\n",
    "    outcomes[index_bits] = check_DJ(nb_bits)\n",
    "    time_2 = time.time()\n",
    "    classic_time[index_bits] = time_2 - time_1"
   ]
  },
  {
   "cell_type": "code",
   "execution_count": 6,
   "metadata": {},
   "outputs": [
    {
     "ename": "NameError",
     "evalue": "name 'classic_time' is not defined",
     "output_type": "error",
     "traceback": [
      "\u001b[0;31m---------------------------------------------------------------------------\u001b[0m",
      "\u001b[0;31mNameError\u001b[0m                                 Traceback (most recent call last)",
      "\u001b[0;32m<ipython-input-6-3d8b8a4a0c96>\u001b[0m in \u001b[0;36m<module>\u001b[0;34m\u001b[0m\n\u001b[0;32m----> 1\u001b[0;31m \u001b[0mprint\u001b[0m\u001b[0;34m(\u001b[0m\u001b[0mclassic_time\u001b[0m\u001b[0;34m)\u001b[0m\u001b[0;34m\u001b[0m\u001b[0;34m\u001b[0m\u001b[0m\n\u001b[0m",
      "\u001b[0;31mNameError\u001b[0m: name 'classic_time' is not defined"
     ]
    }
   ],
   "source": [
    "print(classic_time)"
   ]
  },
  {
   "cell_type": "code",
   "execution_count": 23,
   "metadata": {},
   "outputs": [],
   "source": [
    "# This has been run from 11 to 36 bits\n",
    "classic_time = [\n",
    "    0.00011348724365234375,\n",
    "    0.00023436546325683594, \n",
    "    0.00046324729919433594, \n",
    "    0.0009922981262207031, \n",
    "    0.0019681453704833984, \n",
    "    0.0036890506744384766, \n",
    "    0.007636070251464844, \n",
    "    0.015123844146728516, \n",
    "    0.02998495101928711, \n",
    "    0.06107974052429199, \n",
    "    0.11802506446838379, \n",
    "    0.2440321445465088, \n",
    "    0.48617100715637207, \n",
    "    0.9468193054199219, \n",
    "    1.8909051418304443, \n",
    "    3.910416603088379, \n",
    "    7.771848917007446, \n",
    "    15.125396728515625,\n",
    "    29.934565544128418, \n",
    "    59.82556629180908, \n",
    "    119.86157250404358,\n",
    "    242.8884973526001, \n",
    "    490.281861782074,\n",
    "    1004.4115877151489, \n",
    "    2013.2166793346405, \n",
    "    4068.674394607544]"
   ]
  },
  {
   "cell_type": "code",
   "execution_count": 24,
   "metadata": {},
   "outputs": [],
   "source": [
    "quantum_ms = [\n",
    "    501526,\n",
    "    542486, \n",
    "    583446,\n",
    "    624406,\n",
    "    665366,\n",
    "    706326, \n",
    "    747286,\n",
    "    788246, \n",
    "    829206,\n",
    "    870166, \n",
    "    911126,\n",
    "    952086,  \n",
    "    993046,\n",
    "    1.03401e+06,\n",
    "    1.07497e+06,\n",
    "    1.11593e+06\n",
    "]"
   ]
  },
  {
   "cell_type": "code",
   "execution_count": 25,
   "metadata": {},
   "outputs": [
    {
     "name": "stdout",
     "output_type": "stream",
     "text": [
      "[501.526 542.486 583.446 624.4060000000001 665.366 706.326\n",
      " 747.2860000000001 788.246 829.206 870.166 911.126 952.086 993.046 1034.01\n",
      " 1074.97 1115.93]\n"
     ]
    }
   ],
   "source": [
    "quantum_data = np.array([range_bits[1:len(quantum_ms)+1],np.multiply((1/1000),quantum_ms)],dtype=object)[1]\n",
    "print(quantum_data)"
   ]
  },
  {
   "cell_type": "code",
   "execution_count": 26,
   "metadata": {},
   "outputs": [],
   "source": [
    "fidelity = [\n",
    "    (921/1024),\n",
    "    (904/1024),\n",
    "    (895/1024),\n",
    "    (876/1024),\n",
    "    (888/1024),\n",
    "    (856/1024),\n",
    "    (866/1024),\n",
    "    (862/1024),\n",
    "    (835/1024),\n",
    "    (821/1024),\n",
    "    (849/1024),\n",
    "    (816/1024),\n",
    "    (805/1024),\n",
    "    (813/1024),\n",
    "    (809/1024),\n",
    "    (787/1024)\n",
    "]"
   ]
  },
  {
   "cell_type": "code",
   "execution_count": 27,
   "metadata": {},
   "outputs": [],
   "source": [
    "infidelity = [1.0 - value for value in fidelity]"
   ]
  },
  {
   "cell_type": "code",
   "execution_count": 28,
   "metadata": {},
   "outputs": [],
   "source": [
    "import numpy as np\n",
    "import matplotlib\n",
    "import matplotlib.pyplot as plt\n",
    "from matplotlib.ticker import StrMethodFormatter\n",
    "from scipy import optimize\n",
    "from scipy import stats"
   ]
  },
  {
   "cell_type": "code",
   "execution_count": 29,
   "metadata": {},
   "outputs": [],
   "source": [
    "linfunc = lambda p,x : p[0] + np.multiply(p[1],x)\n",
    "expfunc = lambda p,x : p[0]*np.exp(p[1]*x)\n",
    "powfunc = lambda p,x : p[0]*x**p[1]\n",
    "errfunc_lin = lambda p,x,y : y - linfunc(p,x)\n",
    "errfunc_exp = lambda p,x,y : y - expfunc(p,x)\n",
    "errfunc_pow = lambda p,x,y : y - powfunc(p,x)\n",
    "linplot = lambda x,b,slope: b + x*slope\n",
    "expplot = lambda x,amp,coeff: amp*np.exp(coeff*x)\n",
    "powplot = lambda x,amp,pow: amp*x**pow"
   ]
  },
  {
   "cell_type": "code",
   "execution_count": 30,
   "metadata": {},
   "outputs": [
    {
     "name": "stdout",
     "output_type": "stream",
     "text": [
      "[11.0, 11.5, 12.0, 12.5, 13.0, 13.5, 14.0, 14.5, 15.0, 15.5, 16.0, 16.5, 17.0, 17.5, 18.0, 18.5, 19.0, 19.5, 20.0, 20.5, 21.0, 21.5, 22.0, 22.5, 23.0, 23.5, 24.0, 24.5, 25.0, 25.5, 26.0, 26.5, 27.0, 27.5, 28.0, 28.5, 29.0, 29.5, 30.0, 30.5, 31.0, 31.5, 32.0, 32.5, 33.0, 33.5, 34.0, 34.5, 35.0, 35.5, 36.0, 36.5, 37.0]\n",
      "[3.622790991916126e-05, 5.257968424280907e-05, 7.63119705564705e-05, 0.00011075602552725617, 0.0001607466967651789, 0.00023330108134439535, 0.0003386035026024549, 0.0004914350645696439, 0.0007132484479114162, 0.0010351791826119262, 0.0015024160841162987, 0.0021805443228832444, 0.003164751492164059, 0.004593188912533255, 0.006666363674511464, 0.009675283444054127, 0.01404230466464131, 0.02038041794173863, 0.029579292388223623, 0.04293015681470284, 0.06230704710396422, 0.09042986112471021, 0.13124614571108628, 0.19048520643264263, 0.27646231950735045, 0.40124593158057614, 0.5823516850211621, 0.8452010558987684, 1.2266897190594221, 1.7803665250346226, 2.5839500520916365, 3.750237817785585, 5.442939455646418, 7.899656330415266, 11.46523319746507, 16.640163416494474, 24.150842268857012, 35.051529705354454, 50.87233484480442, 73.83399453081648, 107.1595940113096, 155.5269853898524, 225.72540898113533, 327.60848628282645, 475.47735440583466, 690.0880899574614, 1001.5652007154634, 1453.6301464731055, 2109.738438621843, 3061.986771668056, 4444.040464084598, 6449.895809204447, 9361.110972278786]\n",
      "[11, 12, 13, 14, 15, 16, 17, 18, 19, 20, 21, 22, 23, 24, 25, 26, 27, 28, 29, 30, 31, 32, 33, 34, 35, 36, 37]\n"
     ]
    }
   ],
   "source": [
    "p_class = [10e-9,0.745]\n",
    "plot_range = range_bits + list(range(range_bits[-1]+1,range_bits[-1]+2))\n",
    "segments = 2\n",
    "fit_range = [12 + (x-segments)/segments for x in range(segments * len(plot_range)-segments+1)]\n",
    "classical_fit = [expfunc(p_class,x) for x in fit_range]\n",
    "print(fit_range)\n",
    "print(classical_fit)\n",
    "print(plot_range)"
   ]
  },
  {
   "cell_type": "code",
   "execution_count": 31,
   "metadata": {},
   "outputs": [
    {
     "name": "stdout",
     "output_type": "stream",
     "text": [
      "[460.566, 501.526, 542.4860000000001, 583.4460000000001, 624.4060000000002, 665.3660000000002, 706.3260000000002, 747.2860000000003, 788.2460000000003, 829.2060000000004, 870.1660000000004, 911.1260000000004, 952.0860000000005, 993.0460000000005, 1034.0060000000005, 1074.9660000000006, 1115.9260000000006, 1156.8860000000006, 1197.8460000000007, 1238.8060000000007, 1279.7660000000008, 1320.7260000000008, 1361.6860000000008, 1402.6460000000009, 1443.606000000001, 1484.566000000001, 1525.526000000001]\n"
     ]
    }
   ],
   "source": [
    "p_class = [quantum_data[0],quantum_data[-1] - quantum_data[-2]]\n",
    "#plot_range = range_qubits + list(range(range_qubits[-1]+1, 31))\n",
    "quantum_fit = [linfunc(p_class,x-plot_range[1]) for x in plot_range]\n",
    "print(quantum_fit)"
   ]
  },
  {
   "cell_type": "code",
   "execution_count": 43,
   "metadata": {},
   "outputs": [
    {
     "data": {
      "image/png": "[encoded data removed]",
      "text/plain": [
       "<Figure size 432x288 with 2 Axes>"
      ]
     },
     "metadata": {
      "needs_background": "light"
     },
     "output_type": "display_data"
    }
   ],
   "source": [
    "from pylab import figure, show, legend, ylabel\n",
    "import math\n",
    " \n",
    "# create the general figure\n",
    "fig1 = figure()\n",
    " \n",
    "# and the first axes using subplot populated with data \n",
    "ax1 = fig1.add_subplot(111)\n",
    "line1 = ax1.plot(range_bits,classic_time, 'gs-', linestyle=\"dashed\", label='Classical algorithm runtime', alpha=0.5, color='blue')\n",
    "line3 = ax1.plot(list(range(min_bits+1,min_bits+1+len(quantum_data))),quantum_data,'bo-', linestyle=\"dashed\",label='Quantum time estimation')\n",
    "#ax1.plot(fit_range,classical_fit, color='green')    # ,fmt='co--',capsize=6.55\n",
    "ax1.plot(plot_range[len(quantum_data):],quantum_fit[len(quantum_data):], color='blue')    # ,fmt='co--',capsize=6.55\n",
    "ax1.plot(plot_range[:2],quantum_fit[:2], color='blue')    # ,fmt='co--',capsize=6.55\n",
    "ax1.set_xlim([11.2,35])\n",
    "ax1.set_xticks(range(12,math.floor(plot_range[-1]),2))\n",
    "#ax1.set_xticks(range(12,math.floor(fit_range[-8]),2))\n",
    "#ax1.grid()\n",
    "plt.xlabel(\"#qubits\", fontsize='large')\n",
    "plt.ylabel(\"wall-time [seconds]\", fontsize='large')\n",
    "#ax1.legend(loc='best', shadow=True, fontsize='small')\n",
    "#ax1.tick_params(axis='y',colors='blue')\n",
    "#ax1.spines['left'].set_color('blue')\n",
    "#ax1.yaxis.label.set_color('blue')\n",
    "\n",
    " \n",
    "# now, the second axes that shares the x-axis with the ax1\n",
    "ax2 = fig1.add_subplot(111, sharex=ax1, frameon=False)\n",
    "line2 = ax2.plot(range(min_bits+1,min_bits+1+len(fidelity)),infidelity, 'om-',linestyle=\"None\", label=\"Infidelity (quantum data)\",color='green',alpha=0.5)\n",
    "#line2 = ax2.plot(range(min_bits,22+1),infidelity, 'ob-',)\n",
    "ax2.yaxis.tick_right()\n",
    "ax2.set_ylim(0.0,1.0)\n",
    "ax2.yaxis.set_label_position(\"right\")\n",
    "ax2.set_yticks([i/10 for i in range(1,11)])\n",
    "ylabel(\"1 - Fidelity\")\n",
    "fig1.legend(bbox_to_anchor=(0.13, 0.78, 1., .102),loc='upper left', shadow=True, fontsize='small')\n",
    "#ax2.set_xlim([11,31])\n",
    "#ax2.set_xticks(range(12,31,2))\n",
    "\n",
    "ax2.tick_params(axis='y',colors='green')\n",
    "ax2.spines['right'].set_color('green')\n",
    "ax2.yaxis.label.set_color('green')\n",
    "\n",
    "ax1.yaxis.label.set_color('blue')\n",
    "ax1.tick_params(axis='y',colors='blue')\n",
    "ax1.spines['left'].set_color('blue')\n",
    "\n",
    "ax2.grid()\n",
    "\n",
    "\n",
    "ax1.set_ylim([-100,2100])\n",
    "\n",
    "# for the legend, remember that we used two different axes so, we need \n",
    "# to build the legend manually\n",
    "#fig1.legend((line1, line2, line3), (\"1\", \"2\", \"3\"))\n",
    "plt.savefig('qbstrDJ.png', dpi=300)\n",
    "show()"
   ]
  },
  {
   "cell_type": "code",
   "execution_count": null,
   "metadata": {},
   "outputs": [],
   "source": []
  }
 ],
 "metadata": {
  "kernelspec": {
   "display_name": "Python 3",
   "language": "python",
   "name": "python3"
  },
  "language_info": {
   "codemirror_mode": {
    "name": "ipython",
    "version": 3
   },
   "file_extension": ".py",
   "mimetype": "text/x-python",
   "name": "python",
   "nbconvert_exporter": "python",
   "pygments_lexer": "ipython3",
   "version": "3.6.9"
  }
 },
 "nbformat": 4,
 "nbformat_minor": 4
}
