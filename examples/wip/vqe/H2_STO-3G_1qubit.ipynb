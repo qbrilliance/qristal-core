{
 "cells": [
  {
   "cell_type": "markdown",
   "metadata": {},
   "source": [
    "\n",
    "# H2 (FCI) in STO-3G on 1 qubit \n",
    "\n",
    "This notebook features a FCI calculation of the H<sub>2</sub> molecule on 1 qubit using the VQE module of the QB SDK. The molecule is considered near its equilibrium  geometry with a bond distance of 1.4$\\,$a.u. For further details on the construction of the Pauli string `qv.ham` please refer to the notebook `Automatic_Pauli_string_generation.ipynb`\n",
    "In section (2), the obtained VQE energy is confirmed with classical algorithms of `pyscf`. \n",
    "\n",
    "## (1) VQE\n"
   ]
  },
  {
   "cell_type": "code",
   "execution_count": 1,
   "metadata": {},
   "outputs": [
    {
     "name": "stdout",
     "output_type": "stream",
     "text": [
      "-------------------------------\n",
      "VQE converged in 4 iterations!\n",
      "-------- H2 (1 qubit) ---------\n",
      "E_nuc = 0.714285714286\n",
      "E_SCF = -1.116714325063\n",
      "E_VQE = -1.137275943617\n",
      "(E_corr = -0.020561618554)\n",
      "-------------------------------\n"
     ]
    }
   ],
   "source": [
    "import qb.op\n",
    "from scipy.optimize import Bounds, minimize\n",
    "import numpy as np\n",
    "\n",
    "enuc = 1.0/1.4 #nuclear repulsion of H2 molecule, 1.4 a.u. apart\n",
    "\n",
    "# define vqe function for optimizer \n",
    "def qbvqe(theta):\n",
    "    qv = qb.op.vqe()\n",
    "    qv.sn = 0 #non-stochastic run\n",
    "    qv.qn = 1 #number of qubits\n",
    "    qv.ham = \"-1.04235464570829 + 0.18125791479311 X0+ -0.78864539363997 Z0\"\n",
    "    qv.ansatz = '''\n",
    ".compiler xasm \n",
    ".circuit qbsdk_ansatz \n",
    ".parameters theta \n",
    ".qbit q \n",
    "    Ry(q[0], theta);\n",
    "'''\n",
    "    qv.theta = qb.op.ND()\n",
    "    qv.theta[0][0][0] = theta\n",
    "    qv.run()\n",
    "    return qv.out_energy[0][0][0]\n",
    "\n",
    "#(2) connect to optimizer and print results\n",
    "escf = qbvqe(0.0) #get HF energy from initial guess\n",
    "theta = np.array([0.0])\n",
    "res = minimize(qbvqe, \n",
    "               theta, \n",
    "               method = 'SLSQP', \n",
    "               options = {'maxiter' : 50, 'ftol' : 1e-12}, \n",
    "               bounds = Bounds(-np.pi, np.pi, True))\n",
    "evqe = res.fun\n",
    "print(\"-------------------------------\")\n",
    "if (res.nit < 50):\n",
    "    print(\"VQE converged in \" + str(res.nit) + \" iterations!\")\n",
    "else:\n",
    "    print(\"Beware! VQE might not have converged in \" + str(res.nit) + \" iterations!\")\n",
    "                \n",
    "print(\"-------- H2 (1 qubit) ---------\")\n",
    "print(\"E_nuc = %.12f\" % enuc)\n",
    "print(\"E_SCF = %.12f\" % (escf + enuc))\n",
    "print(\"E_VQE = %.12f\" % (evqe + enuc))\n",
    "print(\"(E_corr = %.12f)\" % (evqe - escf))\n",
    "print(\"-------------------------------\")"
   ]
  },
  {
   "cell_type": "markdown",
   "metadata": {},
   "source": [
    "\n",
    "## (2) Comparison to `pyscf`\n"
   ]
  },
  {
   "cell_type": "code",
   "execution_count": 2,
   "metadata": {},
   "outputs": [
    {
     "name": "stdout",
     "output_type": "stream",
     "text": [
      "converged SCF energy = -1.11671432506255\n",
      "E(RCISD) = -1.137275943617044  E_corr = -0.02056161855449252\n",
      "---------------------------\n",
      "Method |    Energy [a.u.]\n",
      "---------------------------\n",
      "SCF    |  -1.116714325063\n",
      "FCI    |  -1.137275943617\n",
      "VQE    |  -1.137275943617\n"
     ]
    }
   ],
   "source": [
    "from pyscf import gto, scf, ci\n",
    "\n",
    "# (1) define molecule\n",
    "mol = gto.Mole()\n",
    "mol.build(\n",
    "        atom = '''H 0 0 -0.7; H 0 0 +0.7''',\n",
    "        unit = 'B',\n",
    "        basis = 'sto-3g',\n",
    "        symmetry = 'Dooh',\n",
    "        )\n",
    "\n",
    "# (2) do SCF\n",
    "mf = scf.RHF(mol)\n",
    "mf.conv_tol = 1e-12\n",
    "mf.max_cycle = 200\n",
    "mf.kernel()\n",
    "\n",
    "# (3) do FCI\n",
    "cisolver = ci.CISD(mf)\n",
    "cisolver.conv_tol = 1e-12\n",
    "efci = cisolver.kernel()[0] + mf.e_tot\n",
    "\n",
    "# (4) print results\n",
    "print(\"---------------------------\")\n",
    "print(\"{:>6} | {:>16}\".format('Method','Energy [a.u.]'))\n",
    "print(\"---------------------------\")\n",
    "print(\"{0:<6} | {1:>16.12f}\".format('SCF', escf + enuc))\n",
    "print(\"{0:<6} | {1:>16.12f}\".format('FCI', efci))\n",
    "print(\"{0:<6} | {1:>16.12f}\".format('VQE', evqe + enuc))\n"
   ]
  }
 ],
 "metadata": {
  "kernelspec": {
   "display_name": "Python 3",
   "language": "python",
   "name": "python3"
  },
  "language_info": {
   "codemirror_mode": {
    "name": "ipython",
    "version": 3
   },
   "file_extension": ".py",
   "mimetype": "text/x-python",
   "name": "python",
   "nbconvert_exporter": "python",
   "pygments_lexer": "ipython3",
   "version": "3.6.9"
  }
 },
 "nbformat": 4,
 "nbformat_minor": 4
}
