{
 "cells": [
  {
   "cell_type": "markdown",
   "metadata": {},
   "source": [
    "<img src=\"https://images.squarespace-cdn.com/content/v1/5e54471da3971960f69d9535/a06ff23d-9911-4787-9887-2ff08de7d8c3/logo-quantum-brilliance.png\" alt=\"Copyright (c) 2022 Quantum Brilliance Pty Ltd\" width=\"240\">\n"
   ]
  },
  {
   "cell_type": "markdown",
   "metadata": {},
   "source": [
    "## Example of the Variational Quantum Eigensolver (VQE) in QB SDK"
   ]
  },
  {
   "cell_type": "code",
   "execution_count": null,
   "metadata": {},
   "outputs": [],
   "source": [
    "# qbOS optimization module\n",
    "import qbos_op\n",
    "import xacc\n",
    "# Get qbOS VQE \n",
    "vqe = qbos_op.vqe(True)\n",
    "vqe.sn = 0   # No shots - deterministic VQE"
   ]
  },
  {
   "cell_type": "markdown",
   "metadata": {},
   "source": [
    "### VQE for $H_2$ (distance = 0.735 Angstrom), using built-in optimiser (Nelder-Mead)"
   ]
  },
  {
   "cell_type": "code",
   "execution_count": null,
   "metadata": {},
   "outputs": [],
   "source": [
    "# H2 geometry\n",
    "vqe.qn = 4  # Number of qubits (number of spin orbitals)\n",
    "vqe.geometry = \"H 0.0 0.0 0.0; H 0.0 0.0 0.735\" #unit: Angstrom "
   ]
  },
  {
   "cell_type": "markdown",
   "metadata": {},
   "source": [
    "### UCCSD Ansatz"
   ]
  },
  {
   "cell_type": "code",
   "execution_count": null,
   "metadata": {},
   "outputs": [],
   "source": [
    "vqe.ansatz = \"uccsd\"\n",
    "vqe.uccsdn = 2  # Number of electrons/particles"
   ]
  },
  {
   "cell_type": "markdown",
   "metadata": {},
   "source": [
    "### Run VQE"
   ]
  },
  {
   "cell_type": "code",
   "execution_count": null,
   "metadata": {},
   "outputs": [],
   "source": [
    "vqe.maxeval = 400\n",
    "vqe.run()\n",
    "optimum_energy = vqe.out_energy[0][0][0]  \n",
    "print(\"Min. energy:\", optimum_energy)"
   ]
  },
  {
   "cell_type": "code",
   "execution_count": null,
   "metadata": {},
   "outputs": [],
   "source": []
  }
 ],
 "metadata": {
  "kernelspec": {
   "display_name": "Python 3.11.0 64-bit",
   "language": "python",
   "name": "python3"
  },
  "language_info": {
   "codemirror_mode": {
    "name": "ipython",
    "version": 3
   },
   "file_extension": ".py",
   "mimetype": "text/x-python",
   "name": "python",
   "nbconvert_exporter": "python",
   "pygments_lexer": "ipython3",
   "version": "3.11.0"
  },
  "vscode": {
   "interpreter": {
    "hash": "5238573367df39f7286bb46f9ff5f08f63a01a80960060ce41e3c79b190280fa"
   }
  }
 },
 "nbformat": 4,
 "nbformat_minor": 4
}
