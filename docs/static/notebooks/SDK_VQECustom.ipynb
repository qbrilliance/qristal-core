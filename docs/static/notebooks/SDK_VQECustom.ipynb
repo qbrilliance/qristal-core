{
 "cells": [
  {
   "cell_type": "markdown",
   "metadata": {},
   "source": [
    "<img src=\"Quantum_Brilliance_dark_blue_Logo_RGB.png\" alt=\"Copyright (c) 2022 Quantum Brilliance Pty Ltd\" width=\"240\">\n"
   ]
  },
  {
   "cell_type": "markdown",
   "metadata": {},
   "source": [
    "## Example of a custom ansatz for VQE in Qristal"
   ]
  },
  {
   "cell_type": "code",
   "execution_count": 1,
   "metadata": {},
   "outputs": [],
   "source": [
    "import qbos_op\n",
    "from scipy.optimize import minimize, show_options, Bounds"
   ]
  },
  {
   "cell_type": "markdown",
   "metadata": {},
   "source": [
    "### Function for scipy.optimize to call"
   ]
  },
  {
   "cell_type": "code",
   "execution_count": 2,
   "metadata": {
    "jupyter": {
     "source_hidden": true
    }
   },
   "outputs": [],
   "source": [
    "def qbvqe(theta,m_qv):\n",
    "    for el in range(len(theta)):\n",
    "        m_qv.theta[0][0][el] = theta[el]\n",
    "    m_qv.run()\n",
    "    return m_qv.out_energy[0][0][0]"
   ]
  },
  {
   "cell_type": "markdown",
   "metadata": {},
   "source": [
    "### Custom ansatz, in XASM format"
   ]
  },
  {
   "cell_type": "markdown",
   "metadata": {},
   "source": [
    "**Important:**\n",
    "\n",
    "Do **not** change the first two lines:\n",
    "```\n",
    ".compiler xasm\n",
    ".circuit qbos_ansatz\n",
    "```\n",
    "\n",
    "You can use the parameter (declared here as `theta`) as a 0-indexed array, ie `theta[0], theta[1], theta[2]`, ..., etc."
   ]
  },
  {
   "cell_type": "code",
   "execution_count": 3,
   "metadata": {},
   "outputs": [],
   "source": [
    "qbos_ansatz = '''\n",
    ".compiler xasm\n",
    ".circuit qbos_ansatz\n",
    ".parameters theta\n",
    ".qbit q\n",
    "  X(q[0]);\n",
    "  X(q[1]);\n",
    "  U(q[0], theta[0], theta[1], theta[2]);\n",
    "  U(q[1], theta[3], theta[4], theta[5]);\n",
    "  U(q[2], theta[6], theta[7], theta[8]);\n",
    "  U(q[3], theta[9], theta[10], theta[11]);\n",
    "  CNOT(q[0], q[1]);\n",
    "  CNOT(q[1], q[2]);\n",
    "  CNOT(q[2], q[3]);\n",
    "  U(q[0], theta[12], theta[13], theta[14]);\n",
    "  U(q[1], theta[15], theta[16], theta[17]);\n",
    "  U(q[2], theta[18], theta[19], theta[20]);\n",
    "  U(q[3], theta[21], theta[22], theta[23]);\n",
    "  CNOT(q[0], q[1]);\n",
    "  CNOT(q[1], q[2]);\n",
    "  CNOT(q[2], q[3]);\n",
    "'''"
   ]
  },
  {
   "cell_type": "markdown",
   "metadata": {},
   "source": [
    "### VQE for classical 4-qubit Hamiltonian, using built-in optimizer (Nelder-Mead)"
   ]
  },
  {
   "cell_type": "code",
   "execution_count": 4,
   "metadata": {},
   "outputs": [
    {
     "name": "stdout",
     "output_type": "stream",
     "text": [
      "Min. energy: -1.3882948459026188\n"
     ]
    }
   ],
   "source": [
    "qv=qbos_op.vqe()\n",
    "qv.sn = 0   # No shots - deterministic VQE\n",
    "\n",
    "# Example from user guide: 3.1.5 Example 3 - 4 qubit Hamiltonian, custom ansatz\n",
    "qv.qn = 4   \n",
    "qv.ham = \"0.04207897647782276 + 0.17771287465139946 Z0 + 0.1777128746513994 Z1 + -0.24274280513140462 Z2 - 0.17059738328801052 Z0Z1 + 0.6622334 Z0Z1Z2Z3\"\n",
    "qv.ansatz = qbos_ansatz\n",
    "qv.ansatz_depth = 2\n",
    "qv.maxeval = 400\n",
    "qv.theta = qbos_op.ND()\n",
    "optimum_energy = qbvqe([0.11]*qv.ansatz_depth[0][0]*qv.qn[0][0]*3,qv)\n",
    "print('Min. energy: ' + str(optimum_energy))\n"
   ]
  },
  {
   "cell_type": "markdown",
   "metadata": {},
   "source": [
    "### VQE for classical 4-qubit Hamiltonian, using SLSQP in scipy.optimize"
   ]
  },
  {
   "cell_type": "markdown",
   "metadata": {},
   "source": [
    "We first need to apply value constraints on the parameters before using SLSQP:"
   ]
  },
  {
   "cell_type": "code",
   "execution_count": 5,
   "metadata": {
    "jupyter": {
     "source_hidden": true
    }
   },
   "outputs": [],
   "source": [
    "qvbound = Bounds(-3.14159,3.14159,True)"
   ]
  },
  {
   "cell_type": "markdown",
   "metadata": {},
   "source": [
    "Now proceed to run ```minimize()```. \n",
    "\n",
    "**Important**: ensure that the number of parameters provided in the initial list matches the number required by the ansatz used.  For the default ansatz, this equals ```3*qn*ansatz_depth```:"
   ]
  },
  {
   "cell_type": "code",
   "execution_count": 6,
   "metadata": {},
   "outputs": [],
   "source": [
    "qv.maxeval = 1\n",
    "res = minimize(qbvqe, [0.11]*qv.ansatz_depth[0][0]*qv.qn[0][0]*3, args=(qv,), method='SLSQP', bounds=qvbound , tol=1e-6)"
   ]
  },
  {
   "cell_type": "markdown",
   "metadata": {},
   "source": [
    "Inspect the optimum results returned by ```minimize()```"
   ]
  },
  {
   "cell_type": "code",
   "execution_count": 7,
   "metadata": {},
   "outputs": [
    {
     "data": {
      "text/plain": [
       "     fun: -1.3889202865893062\n",
       "     jac: array([ 3.61949205e-05,  5.96046448e-08,  5.96046448e-08, -3.73780727e-04,\n",
       "        5.96046448e-08,  5.96046448e-08,  6.31958246e-05, -4.57108021e-04,\n",
       "        0.00000000e+00, -3.57940793e-04, -1.07809901e-04,  0.00000000e+00,\n",
       "        1.08227134e-04, -1.49011612e-08, -1.49011612e-08,  3.95178795e-04,\n",
       "        0.00000000e+00,  0.00000000e+00,  6.37620687e-05,  0.00000000e+00,\n",
       "       -4.57063317e-04, -2.56091356e-04, -1.49011612e-08, -3.19927931e-05])\n",
       " message: 'Optimization terminated successfully'\n",
       "    nfev: 326\n",
       "     nit: 13\n",
       "    njev: 13\n",
       "  status: 0\n",
       " success: True\n",
       "       x: array([-2.48578132e-06,  1.09853522e-01,  1.10000146e-01, -5.24819133e-04,\n",
       "        1.09635322e-01,  1.10000064e-01,  1.90996417e+00, -9.69857843e-03,\n",
       "        1.10000000e-01,  1.57081247e+00, -1.41775019e-04,  1.10000000e-01,\n",
       "        6.17790346e-05,  1.09999815e-01,  1.09853184e-01, -5.25538051e-04,\n",
       "        1.10000000e-01,  1.10267329e-01,  1.23160517e+00,  1.10000001e-01,\n",
       "        9.09510838e-03,  1.57079935e+00,  1.09999841e-01, -2.20403021e-04])"
      ]
     },
     "execution_count": 7,
     "metadata": {},
     "output_type": "execute_result"
    }
   ],
   "source": [
    "res"
   ]
  },
  {
   "cell_type": "markdown",
   "metadata": {},
   "source": [
    "### Getting the eigenstate at the optimum theta"
   ]
  },
  {
   "cell_type": "markdown",
   "metadata": {},
   "source": [
    "> **Note:** This is only valid for **classical/diagonal Hamiltonians** - please disregard otherwise"
   ]
  },
  {
   "cell_type": "code",
   "execution_count": 8,
   "metadata": {},
   "outputs": [],
   "source": [
    "import qbos\n",
    "import xacc\n",
    "import re\n",
    "mstaq = xacc.getCompiler('staq')\n",
    "tqb = qbos.core()\n",
    "tqb.qb12()"
   ]
  },
  {
   "cell_type": "markdown",
   "metadata": {},
   "source": [
    "**Compile** the ansatz, **evaluate** it at the optimum, and **measure/observe** it, finally ending with modifications to produce a QPU kernel:"
   ]
  },
  {
   "cell_type": "code",
   "execution_count": 9,
   "metadata": {},
   "outputs": [],
   "source": [
    "xacc.qasm(qbos_ansatz)\n",
    "anz = xacc.getCompiled('qbos_ansatz')\n",
    "anz_eval = anz.eval(res.x)\n",
    "observe_all = xacc.getObservable('pauli', '1.0 Z3 Z2 Z1 Z0')"
   ]
  },
  {
   "cell_type": "code",
   "execution_count": 10,
   "metadata": {},
   "outputs": [],
   "source": [
    "anz_eval_measured = observe_all.observe(anz_eval)[0]\n",
    "q2oqm = re.sub(r\"qreg q\\[\\d+\\];\", \"\", mstaq.translate(anz_eval_measured))\n",
    "qbstr = '__qpu__ void QBCIRCUIT(qreg q) {\\n' + q2oqm + '}'"
   ]
  },
  {
   "cell_type": "markdown",
   "metadata": {},
   "source": [
    "**Inspect the QPU kernel** in OpenQASM format:"
   ]
  },
  {
   "cell_type": "code",
   "execution_count": 11,
   "metadata": {},
   "outputs": [
    {
     "name": "stdout",
     "output_type": "stream",
     "text": [
      "__qpu__ void QBCIRCUIT(qreg q) {\n",
      "OPENQASM 2.0;\n",
      "include \"qelib1.inc\";\n",
      "\n",
      "creg q_c[4];\n",
      "x q[0];\n",
      "x q[1];\n",
      "u3(-0.0000024857813234,0.1098535220489579,0.1100001464862537) q[0];\n",
      "u3(-0.0005248191326506,0.1096353216240410,0.1100000644909175) q[1];\n",
      "u3(1.9099641678099422,-0.0096985784290641,0.1100000000000000) q[2];\n",
      "u3(1.5708124728497059,-0.0001417750189185,0.1100000000000000) q[3];\n",
      "CX q[0], q[1];\n",
      "CX q[1], q[2];\n",
      "CX q[2], q[3];\n",
      "u3(0.0000617790346293,0.1099998151274363,0.1098531835302538) q[0];\n",
      "u3(-0.0005255380510641,0.1100000000000000,0.1102673290555136) q[1];\n",
      "u3(1.2316051685918965,0.1100000011835104,0.0090951083846284) q[2];\n",
      "u3(1.5707993459993970,0.1099998410247941,-0.0002204030212662) q[3];\n",
      "CX q[0], q[1];\n",
      "CX q[1], q[2];\n",
      "CX q[2], q[3];\n",
      "measure q[3] -> q_c[3];\n",
      "measure q[2] -> q_c[2];\n",
      "measure q[1] -> q_c[1];\n",
      "measure q[0] -> q_c[0];\n",
      "}\n"
     ]
    }
   ],
   "source": [
    "print(qbstr)"
   ]
  },
  {
   "cell_type": "markdown",
   "metadata": {},
   "source": [
    "**Run the QPU kernel:**"
   ]
  },
  {
   "cell_type": "code",
   "execution_count": null,
   "metadata": {},
   "outputs": [
    {
     "ename": "",
     "evalue": "",
     "output_type": "error",
     "traceback": [
      "\u001b[1;31mRunning cells with 'Python 3.11.0 64-bit' requires ipykernel package.\n",
      "\u001b[1;31mRun the following command to install 'ipykernel' into the Python environment. \n",
      "\u001b[1;31mCommand: '\"c:/Program Files/Python311/python.exe\" -m pip install ipykernel -U --user --force-reinstall'"
     ]
    }
   ],
   "source": [
    "tqb.qn = 4\n",
    "tqb.instring = qbstr\n",
    "tqb.acc = \"qpp\"\n",
    "tqb.run()"
   ]
  },
  {
   "cell_type": "markdown",
   "metadata": {},
   "source": [
    "**Print the eigenstate:**"
   ]
  },
  {
   "cell_type": "code",
   "execution_count": 13,
   "metadata": {},
   "outputs": [
    {
     "data": {
      "text/plain": [
       "String[{\n",
       "    \"1011\": 1024\n",
       "}]"
      ]
     },
     "execution_count": 13,
     "metadata": {},
     "output_type": "execute_result"
    }
   ],
   "source": [
    "tqb.out_raw[0]"
   ]
  },
  {
   "cell_type": "code",
   "execution_count": null,
   "metadata": {},
   "outputs": [],
   "source": []
  }
 ],
 "metadata": {
  "kernelspec": {
   "display_name": "Python 3.11.0 64-bit",
   "language": "python",
   "name": "python3"
  },
  "language_info": {
   "codemirror_mode": {
    "name": "ipython",
    "version": 3
   },
   "file_extension": ".py",
   "mimetype": "text/x-python",
   "name": "python",
   "nbconvert_exporter": "python",
   "pygments_lexer": "ipython3",
   "version": "3.11.0"
  },
  "vscode": {
   "interpreter": {
    "hash": "5238573367df39f7286bb46f9ff5f08f63a01a80960060ce41e3c79b190280fa"
   }
  }
 },
 "nbformat": 4,
 "nbformat_minor": 4
}
