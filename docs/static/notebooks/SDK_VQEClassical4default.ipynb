{
 "cells": [
  {
   "cell_type": "markdown",
   "metadata": {},
   "source": [
    "<img src=\"https://images.squarespace-cdn.com/content/v1/5e54471da3971960f69d9535/a06ff23d-9911-4787-9887-2ff08de7d8c3/logo-quantum-brilliance.png\" alt=\"Copyright (c) 2022 Quantum Brilliance Pty Ltd\" width=\"240\">"
   ]
  },
  {
   "cell_type": "markdown",
   "metadata": {},
   "source": [
    "## Example of a classical Hamiltonian with VQE in QB SDK"
   ]
  },
  {
   "cell_type": "code",
   "execution_count": 1,
   "metadata": {},
   "outputs": [],
   "source": [
    "import qbos_op\n",
    "from scipy.optimize import minimize, show_options, Bounds"
   ]
  },
  {
   "cell_type": "markdown",
   "metadata": {},
   "source": [
    "### Function for scipy.optimize to call"
   ]
  },
  {
   "cell_type": "code",
   "execution_count": 2,
   "metadata": {},
   "outputs": [],
   "source": [
    "def qbvqe(theta,m_qv):\n",
    "    for el in range(len(theta)):\n",
    "        m_qv.theta[0][0][el] = theta[el]\n",
    "    m_qv.run()\n",
    "    return m_qv.out_energy[0][0][0]"
   ]
  },
  {
   "cell_type": "markdown",
   "metadata": {},
   "source": [
    "### VQE for classical 4-qubit Hamiltonian, using built-in optimiser (Nelder-Mead)"
   ]
  },
  {
   "cell_type": "code",
   "execution_count": 3,
   "metadata": {},
   "outputs": [
    {
     "name": "stdout",
     "output_type": "stream",
     "text": [
      "Min. energy: -1.3791135054777526\n"
     ]
    }
   ],
   "source": [
    "qv=qbos_op.vqe()\n",
    "qv.sn = 0   # No shots - deterministic VQE\n",
    "\n",
    "# Example from user guide: 3.1.5 Example 2 - 4 qubit Hamiltonian, default (pennylane) ansatz\n",
    "qv.qn = 4   \n",
    "qv.ham = \"0.04207897647782276 + 0.17771287465139946 Z0 + 0.1777128746513994 Z1 + -0.24274280513140462 Z2 - 0.17059738328801052 Z0Z1 + 0.6622334 Z0Z1Z2Z3\"\n",
    "qv.ansatz = \"default\"\n",
    "qv.ansatz_depth = 4\n",
    "qv.maxeval = 400\n",
    "qv.theta = qbos_op.ND()\n",
    "optimum_energy = qbvqe([0.11]*qv.ansatz_depth[0][0]*qv.qn[0][0]*3,qv)\n",
    "print('Min. energy: ' + str(optimum_energy))\n"
   ]
  },
  {
   "cell_type": "markdown",
   "metadata": {},
   "source": [
    "### VQE for classical 4-qubit Hamiltonian, using SLSQP in scipy.optimize"
   ]
  },
  {
   "cell_type": "markdown",
   "metadata": {},
   "source": [
    "We first need to apply value constraints on the parameters before using SLSQP:"
   ]
  },
  {
   "cell_type": "code",
   "execution_count": 4,
   "metadata": {},
   "outputs": [],
   "source": [
    "qvbound = Bounds(-3.14159,3.14159,True)"
   ]
  },
  {
   "cell_type": "markdown",
   "metadata": {},
   "source": [
    "Now proceed to run ```minimize()```. \n",
    "\n",
    "**Important**: ensure that the number of parameters provided in the initial list matches the number required by the ansatz used.  For the default ansatz, this equals ```3*qn*ansatz_depth```:"
   ]
  },
  {
   "cell_type": "code",
   "execution_count": 5,
   "metadata": {},
   "outputs": [],
   "source": [
    "qv.maxeval = 1\n",
    "res = minimize(qbvqe, [0.11]*qv.ansatz_depth[0][0]*qv.qn[0][0]*3, args=(qv,), method='SLSQP', bounds=qvbound , tol=1e-6)"
   ]
  },
  {
   "cell_type": "markdown",
   "metadata": {},
   "source": [
    "Inspect the optimum results returned by ```minimize()```"
   ]
  },
  {
   "cell_type": "code",
   "execution_count": 6,
   "metadata": {},
   "outputs": [
    {
     "data": {
      "text/plain": [
       "     fun: -1.3889184262409766\n",
       "     jac: array([-1.81391835e-04,  7.45058060e-08,  0.00000000e+00,  1.16080046e-04,\n",
       "        8.94069672e-08,  7.45058060e-08, -3.43278050e-04, -7.00354576e-06,\n",
       "        8.94069672e-08, -4.29749489e-04, -8.00192356e-06,  8.94069672e-08,\n",
       "        1.41561031e-04,  4.47034836e-08,  8.94069672e-08, -1.80706382e-04,\n",
       "        4.26173210e-06,  7.45058060e-08,  1.22055411e-04, -8.32974911e-06,\n",
       "       -7.01844692e-06, -4.35456634e-04, -1.17272139e-05, -1.20848417e-05,\n",
       "       -9.57995653e-05,  0.00000000e+00,  0.00000000e+00,  5.13792038e-05,\n",
       "       -4.17232513e-06, -4.17232513e-06, -1.69113278e-04,  4.09781933e-06,\n",
       "        4.32133675e-06,  4.28363681e-04, -1.40815973e-05,  3.68058681e-06,\n",
       "       -9.18582082e-04,  5.96046448e-08,  5.96046448e-08, -4.52846289e-05,\n",
       "        0.00000000e+00,  4.23192978e-06,  4.05743718e-04, -2.98023224e-08,\n",
       "        8.21053982e-06, -4.36380506e-04,  0.00000000e+00,  9.23871994e-06])\n",
       " message: 'Optimization terminated successfully'\n",
       "    nfev: 1134\n",
       "     nit: 23\n",
       "    njev: 23\n",
       "  status: 0\n",
       " success: True\n",
       "       x: array([-2.90265522e-04,  1.08271124e-01,  1.10000262e-01,  1.62243397e-04,\n",
       "        1.08136333e-01,  1.09997894e-01,  8.91114108e-05,  5.10055757e-02,\n",
       "        1.09992034e-01,  8.45109578e-01,  4.61616791e-02,  1.09993178e-01,\n",
       "        1.64595811e-04,  1.11155805e-01,  1.08271358e-01,  8.35754384e-03,\n",
       "        1.89590249e-01,  1.13029978e-01, -7.17329218e-03,  7.83792372e-02,\n",
       "        4.93481336e-02,  8.13666131e-01, -3.31382937e-02, -6.80102302e-02,\n",
       "       -3.29406685e-05,  1.11206781e-01,  1.11157720e-01,  1.10602535e-04,\n",
       "        3.12153823e-02,  3.34303770e-02, -6.83248112e-03,  9.86415240e-02,\n",
       "        6.21156138e-02, -6.64771169e-01, -1.50946964e-02,  1.66858026e-02,\n",
       "       -1.14481802e-03,  1.09996950e-01,  1.11207101e-01, -8.46031859e-03,\n",
       "        1.09999019e-01,  1.91369359e-01,  1.89977784e-05,  1.10000143e-01,\n",
       "        1.76649156e-01,  8.19537769e-01,  1.09998843e-01,  7.51795502e-02])"
      ]
     },
     "execution_count": 6,
     "metadata": {},
     "output_type": "execute_result"
    }
   ],
   "source": [
    "res"
   ]
  }
 ],
 "metadata": {
  "kernelspec": {
   "display_name": "Python 3.11.0 64-bit",
   "language": "python",
   "name": "python3"
  },
  "language_info": {
   "codemirror_mode": {
    "name": "ipython",
    "version": 3
   },
   "file_extension": ".py",
   "mimetype": "text/x-python",
   "name": "python",
   "nbconvert_exporter": "python",
   "pygments_lexer": "ipython3",
   "version": "3.11.0"
  },
  "vscode": {
   "interpreter": {
    "hash": "5238573367df39f7286bb46f9ff5f08f63a01a80960060ce41e3c79b190280fa"
   }
  }
 },
 "nbformat": 4,
 "nbformat_minor": 4
}
