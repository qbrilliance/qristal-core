{
 "cells": [
  {
   "cell_type": "markdown",
   "metadata": {},
   "source": [
    "<img src=\"https://images.squarespace-cdn.com/content/v1/5e54471da3971960f69d9535/a06ff23d-9911-4787-9887-2ff08de7d8c3/logo-quantum-brilliance.png\" alt=\"Copyright (c) 2022 Quantum Brilliance Pty Ltd\" width=\"240\">"
   ]
  },
  {
   "cell_type": "markdown",
   "metadata": {},
   "source": [
    "## Example of the Variational Quantum Eigensolver (VQE) in QB SDK"
   ]
  },
  {
   "cell_type": "code",
   "execution_count": 1,
   "metadata": {},
   "outputs": [],
   "source": [
    "import qbos_op\n",
    "from scipy.optimize import minimize, show_options, Bounds"
   ]
  },
  {
   "cell_type": "markdown",
   "metadata": {},
   "source": [
    "### Function for scipy.optimize to call"
   ]
  },
  {
   "cell_type": "code",
   "execution_count": 2,
   "metadata": {},
   "outputs": [],
   "source": [
    "def qbvqe(theta,m_qv):\n",
    "    for el in range(len(theta)):\n",
    "        m_qv.theta[0][0][el] = theta[el]\n",
    "    m_qv.run()\n",
    "    return m_qv.out_energy[0][0][0]"
   ]
  },
  {
   "cell_type": "markdown",
   "metadata": {},
   "source": [
    "### VQE for deuteron, using built-in optimiser (Nelder-Mead)"
   ]
  },
  {
   "cell_type": "code",
   "execution_count": 3,
   "metadata": {},
   "outputs": [
    {
     "name": "stdout",
     "output_type": "stream",
     "text": [
      "Min. energy: -1.7488646435818769\n"
     ]
    }
   ],
   "source": [
    "qv=qbos_op.vqe()\n",
    "qv.sn = 0   # No shots - deterministic VQE\n",
    "\n",
    "# Deuteron Hamiltonian with aswap ansatz\n",
    "qv.qn = 2  # Number of qubits\n",
    "qv.ham = \"5.907 - 2.1433 X0X1 - 2.1433 Y0Y1 + .21829 Z0 - 6.125 Z1\"\n",
    "qv.ansatz = \"aswap\"\n",
    "qv.maxeval = 400\n",
    "qv.theta = qbos_op.ND()\n",
    "optimum_energy = qbvqe([0.11],qv)  # Initial parameter theta values = [0.11]\n",
    "print('Min. energy: ' + str(optimum_energy))\n"
   ]
  },
  {
   "cell_type": "markdown",
   "metadata": {},
   "source": [
    "### VQE for deuteron, using SLSQP in scipy.optimize"
   ]
  },
  {
   "cell_type": "markdown",
   "metadata": {},
   "source": [
    "We first need to apply value constraints on the parameters before using SLSQP:"
   ]
  },
  {
   "cell_type": "code",
   "execution_count": 4,
   "metadata": {},
   "outputs": [],
   "source": [
    "qvbound = Bounds(-3.14159,3.14159,True)"
   ]
  },
  {
   "cell_type": "markdown",
   "metadata": {},
   "source": [
    "Now proceed to run ```minimize()```. \n",
    "\n",
    "**Important**: ensure that the number of parameters provided in the initial list matches the number required by the ansatz used."
   ]
  },
  {
   "cell_type": "code",
   "execution_count": 5,
   "metadata": {},
   "outputs": [],
   "source": [
    "qv.maxeval = 1\n",
    "res = minimize(qbvqe, [0.11], args=(qv,), method='SLSQP', bounds=qvbound , tol=1e-6)"
   ]
  },
  {
   "cell_type": "markdown",
   "metadata": {},
   "source": [
    "Inspect the optimum results returned by ```minimize()```"
   ]
  },
  {
   "cell_type": "code",
   "execution_count": 6,
   "metadata": {},
   "outputs": [
    {
     "data": {
      "text/plain": [
       "     fun: -1.7488648387610506\n",
       "     jac: array([-0.0021494])\n",
       " message: 'Optimization terminated successfully'\n",
       "    nfev: 10\n",
       "     nit: 4\n",
       "    njev: 4\n",
       "  status: 0\n",
       " success: True\n",
       "       x: array([-0.29720914])"
      ]
     },
     "execution_count": 6,
     "metadata": {},
     "output_type": "execute_result"
    }
   ],
   "source": [
    "res"
   ]
  }
 ],
 "metadata": {
  "kernelspec": {
   "display_name": "Python 3.11.0 64-bit",
   "language": "python",
   "name": "python3"
  },
  "language_info": {
   "codemirror_mode": {
    "name": "ipython",
    "version": 3
   },
   "file_extension": ".py",
   "mimetype": "text/x-python",
   "name": "python",
   "nbconvert_exporter": "python",
   "pygments_lexer": "ipython3",
   "version": "3.11.0"
  },
  "vscode": {
   "interpreter": {
    "hash": "5238573367df39f7286bb46f9ff5f08f63a01a80960060ce41e3c79b190280fa"
   }
  }
 },
 "nbformat": 4,
 "nbformat_minor": 4
}
